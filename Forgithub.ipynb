{
 "cells": [
  {
   "cell_type": "markdown",
   "id": "625b6d55-8fbb-48a5-b44c-5c1cf0ef3682",
   "metadata": {},
   "source": [
    "# Задача \n",
    "\n",
    "### Рассчитайте наценку на ювелирные изделия по данным на листе \"\"Задание 2\"\". Соблюсти следующие условия:\n",
    "### 1. Период анализа - с 1.04.23 по 10.04.23\n",
    "### 2. В анализе должны участвовать только продажи изделий с общей суммой и себестоимостью больше 0 рублей\n",
    "### 3. В ответе необходимо получить два значения наценки - среднюю наценку на ювелирные изделия из золота и среднюю наценку на ювелирные изделия из серебра. Сгруппировать изделия по металлу нужно на основе поля \"\"Товарная группа\"\". Товарная группа изделий из серебра начинается на \"\"СИ\"\", все остальные изделия - это золото.\n"
   ]
  },
  {
   "cell_type": "markdown",
   "id": "f7070a91-04c6-469a-8e51-2ea1917e746f",
   "metadata": {},
   "source": [
    "# Импортируем библиотеки"
   ]
  },
  {
   "cell_type": "code",
   "execution_count": 1,
   "id": "54477c7e-bdd3-4143-95e7-da69cd361cf5",
   "metadata": {},
   "outputs": [],
   "source": [
    "import pandas as pd \n",
    "import numpy as np\n",
    "import seaborn as sns\n",
    "from tqdm.notebook import tqdm\n",
    "import matplotlib.pyplot as plt \n",
    "\n",
    "plt.style.use('dark_background')"
   ]
  },
  {
   "cell_type": "markdown",
   "id": "baa8abba-3561-4451-9a71-60cfad1e8b3c",
   "metadata": {},
   "source": [
    "# Считываем файл"
   ]
  },
  {
   "cell_type": "code",
   "execution_count": 2,
   "id": "32980412-f3b4-4388-af37-cfdcc3a6735f",
   "metadata": {},
   "outputs": [],
   "source": [
    "df = pd.read_excel(io = r\"C:\\Users\\Sasha\\OneDrive\\Рабочий стол\\Для DataLens.xlsx\", sheet_name = \"Задания 2\")"
   ]
  },
  {
   "cell_type": "markdown",
   "id": "4850a9c1-45d8-4840-a92d-fb8c0a0f3e66",
   "metadata": {},
   "source": [
    "## Для начала произведем разведывательный анализ (познакомимся с таблицей)"
   ]
  },
  {
   "cell_type": "code",
   "execution_count": 3,
   "id": "2eccfcb6-b28e-4643-ad7a-365c1b13f3ac",
   "metadata": {},
   "outputs": [
    {
     "data": {
      "text/html": [
       "<div>\n",
       "<style scoped>\n",
       "    .dataframe tbody tr th:only-of-type {\n",
       "        vertical-align: middle;\n",
       "    }\n",
       "\n",
       "    .dataframe tbody tr th {\n",
       "        vertical-align: top;\n",
       "    }\n",
       "\n",
       "    .dataframe thead th {\n",
       "        text-align: right;\n",
       "    }\n",
       "</style>\n",
       "<table border=\"1\" class=\"dataframe\">\n",
       "  <thead>\n",
       "    <tr style=\"text-align: right;\">\n",
       "      <th></th>\n",
       "      <th>ДатаПродажи</th>\n",
       "      <th>НомерЧека</th>\n",
       "      <th>Номенклатура</th>\n",
       "      <th>Штрихкод</th>\n",
       "      <th>ТоварнаяГруппа</th>\n",
       "      <th>СН_Характеристика</th>\n",
       "      <th>бгсВес</th>\n",
       "      <th>Общая Сумма</th>\n",
       "      <th>Себестоимость</th>\n",
       "    </tr>\n",
       "  </thead>\n",
       "  <tbody>\n",
       "    <tr>\n",
       "      <th>0</th>\n",
       "      <td>2023-01-04 10:05:00</td>\n",
       "      <td>1814</td>\n",
       "      <td>серьги с брил.+изумрудом с родир</td>\n",
       "      <td>1078601904686</td>\n",
       "      <td>ДК СЕРЬГИ</td>\n",
       "      <td>Au 585º -</td>\n",
       "      <td>2.89</td>\n",
       "      <td>51180.0</td>\n",
       "      <td>17276.0475</td>\n",
       "    </tr>\n",
       "    <tr>\n",
       "      <th>1</th>\n",
       "      <td>2023-01-04 10:08:00</td>\n",
       "      <td>4868</td>\n",
       "      <td>Серьги с топазом</td>\n",
       "      <td>1078551306013</td>\n",
       "      <td>ПДК СЕРЬГИ</td>\n",
       "      <td>Au 585º -</td>\n",
       "      <td>3.99</td>\n",
       "      <td>34740.0</td>\n",
       "      <td>12074.7470</td>\n",
       "    </tr>\n",
       "    <tr>\n",
       "      <th>2</th>\n",
       "      <td>2023-01-04 10:08:00</td>\n",
       "      <td>617</td>\n",
       "      <td>Кольцо с брилл.+изум.гидротерм. с родир.</td>\n",
       "      <td>1078509166518</td>\n",
       "      <td>ДК КОЛЬЦА</td>\n",
       "      <td>Au 585º -, разм.18,5</td>\n",
       "      <td>2.05</td>\n",
       "      <td>17760.0</td>\n",
       "      <td>6629.6120</td>\n",
       "    </tr>\n",
       "    <tr>\n",
       "      <th>3</th>\n",
       "      <td>2023-01-04 10:11:00</td>\n",
       "      <td>461</td>\n",
       "      <td>Кольцо с амет. род.</td>\n",
       "      <td>1078579406088</td>\n",
       "      <td>СИ КОЛЬЦО ЦВ/К</td>\n",
       "      <td>Ag 925º -, разм.19,0</td>\n",
       "      <td>1.46</td>\n",
       "      <td>756.0</td>\n",
       "      <td>302.2200</td>\n",
       "    </tr>\n",
       "    <tr>\n",
       "      <th>4</th>\n",
       "      <td>2023-01-04 10:12:00</td>\n",
       "      <td>3939</td>\n",
       "      <td>Цепь Якорь с а/г род.</td>\n",
       "      <td>1078601866814</td>\n",
       "      <td>СИ ЦЕПЬ</td>\n",
       "      <td>Ag 925º -, разм.40,0</td>\n",
       "      <td>2.70</td>\n",
       "      <td>1560.0</td>\n",
       "      <td>458.9995</td>\n",
       "    </tr>\n",
       "  </tbody>\n",
       "</table>\n",
       "</div>"
      ],
      "text/plain": [
       "           ДатаПродажи  НомерЧека                              Номенклатура  \\\n",
       "0  2023-01-04 10:05:00       1814          серьги с брил.+изумрудом с родир   \n",
       "1  2023-01-04 10:08:00       4868                          Серьги с топазом   \n",
       "2  2023-01-04 10:08:00        617  Кольцо с брилл.+изум.гидротерм. с родир.   \n",
       "3  2023-01-04 10:11:00        461                       Кольцо с амет. род.   \n",
       "4  2023-01-04 10:12:00       3939                     Цепь Якорь с а/г род.   \n",
       "\n",
       "        Штрихкод  ТоварнаяГруппа     СН_Характеристика  бгсВес  Общая Сумма  \\\n",
       "0  1078601904686       ДК СЕРЬГИ             Au 585º -    2.89      51180.0   \n",
       "1  1078551306013      ПДК СЕРЬГИ             Au 585º -    3.99      34740.0   \n",
       "2  1078509166518       ДК КОЛЬЦА  Au 585º -, разм.18,5    2.05      17760.0   \n",
       "3  1078579406088  СИ КОЛЬЦО ЦВ/К  Ag 925º -, разм.19,0    1.46        756.0   \n",
       "4  1078601866814         СИ ЦЕПЬ  Ag 925º -, разм.40,0    2.70       1560.0   \n",
       "\n",
       "   Себестоимость  \n",
       "0     17276.0475  \n",
       "1     12074.7470  \n",
       "2      6629.6120  \n",
       "3       302.2200  \n",
       "4       458.9995  "
      ]
     },
     "execution_count": 3,
     "metadata": {},
     "output_type": "execute_result"
    }
   ],
   "source": [
    "df.head()"
   ]
  },
  {
   "cell_type": "code",
   "execution_count": 4,
   "id": "b14faedc-fe6c-485f-ac61-de9a62f79c80",
   "metadata": {},
   "outputs": [
    {
     "name": "stdout",
     "output_type": "stream",
     "text": [
      "<class 'pandas.core.frame.DataFrame'>\n",
      "RangeIndex: 28199 entries, 0 to 28198\n",
      "Data columns (total 9 columns):\n",
      " #   Column             Non-Null Count  Dtype  \n",
      "---  ------             --------------  -----  \n",
      " 0   ДатаПродажи        28199 non-null  object \n",
      " 1   НомерЧека          28199 non-null  int64  \n",
      " 2   Номенклатура       28199 non-null  object \n",
      " 3   Штрихкод           28199 non-null  int64  \n",
      " 4   ТоварнаяГруппа     28199 non-null  object \n",
      " 5   СН_Характеристика  28199 non-null  object \n",
      " 6   бгсВес             28199 non-null  float64\n",
      " 7   Общая Сумма        28199 non-null  float64\n",
      " 8   Себестоимость      28199 non-null  float64\n",
      "dtypes: float64(3), int64(2), object(4)\n",
      "memory usage: 1.9+ MB\n"
     ]
    }
   ],
   "source": [
    "df.info()"
   ]
  },
  {
   "cell_type": "markdown",
   "id": "6d9a854e-cd5f-4dae-b0ac-4659a95f6db0",
   "metadata": {},
   "source": [
    "### 1 Отлично, мы сразу видим, что все ячейки в таблице не пустые\n",
    "### Также сразу видно, что нужно поменять формат у наших данных, я бы заодно поменял названия у столбцов на англ, мне будет так легче работать\n"
   ]
  },
  {
   "cell_type": "code",
   "execution_count": 5,
   "id": "1b531362-78ec-4677-bd78-16daf4495fb9",
   "metadata": {},
   "outputs": [],
   "source": [
    "new_name_for_columns = ['data_of_sale', 'num_of_receipt', 'name', 'barkod', 'staff_group', 'parameter', 'weight', 'sell_price', 'cost_price']"
   ]
  },
  {
   "cell_type": "code",
   "execution_count": 6,
   "id": "6fd67c73-7b7c-4d06-8873-0a2d86e52645",
   "metadata": {},
   "outputs": [],
   "source": [
    "df.columns = new_name_for_columns"
   ]
  },
  {
   "cell_type": "code",
   "execution_count": 7,
   "id": "85582f27-2bd2-4236-a7b8-90a2e1249d74",
   "metadata": {},
   "outputs": [
    {
     "data": {
      "text/html": [
       "<div>\n",
       "<style scoped>\n",
       "    .dataframe tbody tr th:only-of-type {\n",
       "        vertical-align: middle;\n",
       "    }\n",
       "\n",
       "    .dataframe tbody tr th {\n",
       "        vertical-align: top;\n",
       "    }\n",
       "\n",
       "    .dataframe thead th {\n",
       "        text-align: right;\n",
       "    }\n",
       "</style>\n",
       "<table border=\"1\" class=\"dataframe\">\n",
       "  <thead>\n",
       "    <tr style=\"text-align: right;\">\n",
       "      <th></th>\n",
       "      <th>data_of_sale</th>\n",
       "      <th>num_of_receipt</th>\n",
       "      <th>name</th>\n",
       "      <th>barkod</th>\n",
       "      <th>staff_group</th>\n",
       "      <th>parameter</th>\n",
       "      <th>weight</th>\n",
       "      <th>sell_price</th>\n",
       "      <th>cost_price</th>\n",
       "    </tr>\n",
       "  </thead>\n",
       "  <tbody>\n",
       "    <tr>\n",
       "      <th>0</th>\n",
       "      <td>2023-01-04 10:05:00</td>\n",
       "      <td>1814</td>\n",
       "      <td>серьги с брил.+изумрудом с родир</td>\n",
       "      <td>1078601904686</td>\n",
       "      <td>ДК СЕРЬГИ</td>\n",
       "      <td>Au 585º -</td>\n",
       "      <td>2.89</td>\n",
       "      <td>51180.0</td>\n",
       "      <td>17276.0475</td>\n",
       "    </tr>\n",
       "    <tr>\n",
       "      <th>1</th>\n",
       "      <td>2023-01-04 10:08:00</td>\n",
       "      <td>4868</td>\n",
       "      <td>Серьги с топазом</td>\n",
       "      <td>1078551306013</td>\n",
       "      <td>ПДК СЕРЬГИ</td>\n",
       "      <td>Au 585º -</td>\n",
       "      <td>3.99</td>\n",
       "      <td>34740.0</td>\n",
       "      <td>12074.7470</td>\n",
       "    </tr>\n",
       "  </tbody>\n",
       "</table>\n",
       "</div>"
      ],
      "text/plain": [
       "          data_of_sale  num_of_receipt                              name  \\\n",
       "0  2023-01-04 10:05:00            1814  серьги с брил.+изумрудом с родир   \n",
       "1  2023-01-04 10:08:00            4868                  Серьги с топазом   \n",
       "\n",
       "          barkod staff_group  parameter  weight  sell_price  cost_price  \n",
       "0  1078601904686   ДК СЕРЬГИ  Au 585º -    2.89     51180.0  17276.0475  \n",
       "1  1078551306013  ПДК СЕРЬГИ  Au 585º -    3.99     34740.0  12074.7470  "
      ]
     },
     "execution_count": 7,
     "metadata": {},
     "output_type": "execute_result"
    }
   ],
   "source": [
    "df.head(2)"
   ]
  },
  {
   "cell_type": "code",
   "execution_count": 8,
   "id": "f0fc5905-9c57-4a19-8d54-502abdbb8d25",
   "metadata": {},
   "outputs": [
    {
     "ename": "ValueError",
     "evalue": "time data \"4/13/23 9:27\" doesn't match format \"%Y-%m-%d %H:%M:%S\", at position 5672. You might want to try:\n    - passing `format` if your strings have a consistent format;\n    - passing `format='ISO8601'` if your strings are all ISO8601 but not necessarily in exactly the same format;\n    - passing `format='mixed'`, and the format will be inferred for each element individually. You might want to use `dayfirst` alongside this.",
     "output_type": "error",
     "traceback": [
      "\u001b[1;31m---------------------------------------------------------------------------\u001b[0m",
      "\u001b[1;31mValueError\u001b[0m                                Traceback (most recent call last)",
      "Cell \u001b[1;32mIn[8], line 1\u001b[0m\n\u001b[1;32m----> 1\u001b[0m df\u001b[38;5;241m.\u001b[39mdata_of_sale \u001b[38;5;241m=\u001b[39m \u001b[43mpd\u001b[49m\u001b[38;5;241;43m.\u001b[39;49m\u001b[43mto_datetime\u001b[49m\u001b[43m(\u001b[49m\u001b[43marg\u001b[49m\u001b[43m \u001b[49m\u001b[38;5;241;43m=\u001b[39;49m\u001b[43m \u001b[49m\u001b[43mdf\u001b[49m\u001b[38;5;241;43m.\u001b[39;49m\u001b[43mdata_of_sale\u001b[49m\u001b[43m,\u001b[49m\u001b[43m \u001b[49m\u001b[43myearfirst\u001b[49m\u001b[38;5;241;43m=\u001b[39;49m\u001b[43m \u001b[49m\u001b[38;5;28;43;01mTrue\u001b[39;49;00m\u001b[43m,\u001b[49m\u001b[43m \u001b[49m\u001b[38;5;28;43mformat\u001b[39;49m\u001b[38;5;241;43m=\u001b[39;49m\u001b[43m \u001b[49m\u001b[38;5;124;43m\"\u001b[39;49m\u001b[38;5;124;43m%\u001b[39;49m\u001b[38;5;124;43mY-\u001b[39;49m\u001b[38;5;124;43m%\u001b[39;49m\u001b[38;5;124;43mm-\u001b[39;49m\u001b[38;5;132;43;01m%d\u001b[39;49;00m\u001b[38;5;124;43m \u001b[39;49m\u001b[38;5;124;43m%\u001b[39;49m\u001b[38;5;124;43mH:\u001b[39;49m\u001b[38;5;124;43m%\u001b[39;49m\u001b[38;5;124;43mM:\u001b[39;49m\u001b[38;5;124;43m%\u001b[39;49m\u001b[38;5;124;43mS\u001b[39;49m\u001b[38;5;124;43m\"\u001b[39;49m\u001b[43m)\u001b[49m\n",
      "File \u001b[1;32m~\\AppData\\Local\\Programs\\Python\\Python312\\Lib\\site-packages\\pandas\\core\\tools\\datetimes.py:1063\u001b[0m, in \u001b[0;36mto_datetime\u001b[1;34m(arg, errors, dayfirst, yearfirst, utc, format, exact, unit, infer_datetime_format, origin, cache)\u001b[0m\n\u001b[0;32m   1061\u001b[0m             result \u001b[38;5;241m=\u001b[39m arg\u001b[38;5;241m.\u001b[39mtz_localize(\u001b[38;5;124m\"\u001b[39m\u001b[38;5;124mutc\u001b[39m\u001b[38;5;124m\"\u001b[39m)\n\u001b[0;32m   1062\u001b[0m \u001b[38;5;28;01melif\u001b[39;00m \u001b[38;5;28misinstance\u001b[39m(arg, ABCSeries):\n\u001b[1;32m-> 1063\u001b[0m     cache_array \u001b[38;5;241m=\u001b[39m \u001b[43m_maybe_cache\u001b[49m\u001b[43m(\u001b[49m\u001b[43marg\u001b[49m\u001b[43m,\u001b[49m\u001b[43m \u001b[49m\u001b[38;5;28;43mformat\u001b[39;49m\u001b[43m,\u001b[49m\u001b[43m \u001b[49m\u001b[43mcache\u001b[49m\u001b[43m,\u001b[49m\u001b[43m \u001b[49m\u001b[43mconvert_listlike\u001b[49m\u001b[43m)\u001b[49m\n\u001b[0;32m   1064\u001b[0m     \u001b[38;5;28;01mif\u001b[39;00m \u001b[38;5;129;01mnot\u001b[39;00m cache_array\u001b[38;5;241m.\u001b[39mempty:\n\u001b[0;32m   1065\u001b[0m         result \u001b[38;5;241m=\u001b[39m arg\u001b[38;5;241m.\u001b[39mmap(cache_array)\n",
      "File \u001b[1;32m~\\AppData\\Local\\Programs\\Python\\Python312\\Lib\\site-packages\\pandas\\core\\tools\\datetimes.py:247\u001b[0m, in \u001b[0;36m_maybe_cache\u001b[1;34m(arg, format, cache, convert_listlike)\u001b[0m\n\u001b[0;32m    245\u001b[0m unique_dates \u001b[38;5;241m=\u001b[39m unique(arg)\n\u001b[0;32m    246\u001b[0m \u001b[38;5;28;01mif\u001b[39;00m \u001b[38;5;28mlen\u001b[39m(unique_dates) \u001b[38;5;241m<\u001b[39m \u001b[38;5;28mlen\u001b[39m(arg):\n\u001b[1;32m--> 247\u001b[0m     cache_dates \u001b[38;5;241m=\u001b[39m \u001b[43mconvert_listlike\u001b[49m\u001b[43m(\u001b[49m\u001b[43munique_dates\u001b[49m\u001b[43m,\u001b[49m\u001b[43m \u001b[49m\u001b[38;5;28;43mformat\u001b[39;49m\u001b[43m)\u001b[49m\n\u001b[0;32m    248\u001b[0m     \u001b[38;5;66;03m# GH#45319\u001b[39;00m\n\u001b[0;32m    249\u001b[0m     \u001b[38;5;28;01mtry\u001b[39;00m:\n",
      "File \u001b[1;32m~\\AppData\\Local\\Programs\\Python\\Python312\\Lib\\site-packages\\pandas\\core\\tools\\datetimes.py:433\u001b[0m, in \u001b[0;36m_convert_listlike_datetimes\u001b[1;34m(arg, format, name, utc, unit, errors, dayfirst, yearfirst, exact)\u001b[0m\n\u001b[0;32m    431\u001b[0m \u001b[38;5;66;03m# `format` could be inferred, or user didn't ask for mixed-format parsing.\u001b[39;00m\n\u001b[0;32m    432\u001b[0m \u001b[38;5;28;01mif\u001b[39;00m \u001b[38;5;28mformat\u001b[39m \u001b[38;5;129;01mis\u001b[39;00m \u001b[38;5;129;01mnot\u001b[39;00m \u001b[38;5;28;01mNone\u001b[39;00m \u001b[38;5;129;01mand\u001b[39;00m \u001b[38;5;28mformat\u001b[39m \u001b[38;5;241m!=\u001b[39m \u001b[38;5;124m\"\u001b[39m\u001b[38;5;124mmixed\u001b[39m\u001b[38;5;124m\"\u001b[39m:\n\u001b[1;32m--> 433\u001b[0m     \u001b[38;5;28;01mreturn\u001b[39;00m \u001b[43m_array_strptime_with_fallback\u001b[49m\u001b[43m(\u001b[49m\u001b[43marg\u001b[49m\u001b[43m,\u001b[49m\u001b[43m \u001b[49m\u001b[43mname\u001b[49m\u001b[43m,\u001b[49m\u001b[43m \u001b[49m\u001b[43mutc\u001b[49m\u001b[43m,\u001b[49m\u001b[43m \u001b[49m\u001b[38;5;28;43mformat\u001b[39;49m\u001b[43m,\u001b[49m\u001b[43m \u001b[49m\u001b[43mexact\u001b[49m\u001b[43m,\u001b[49m\u001b[43m \u001b[49m\u001b[43merrors\u001b[49m\u001b[43m)\u001b[49m\n\u001b[0;32m    435\u001b[0m result, tz_parsed \u001b[38;5;241m=\u001b[39m objects_to_datetime64(\n\u001b[0;32m    436\u001b[0m     arg,\n\u001b[0;32m    437\u001b[0m     dayfirst\u001b[38;5;241m=\u001b[39mdayfirst,\n\u001b[1;32m   (...)\u001b[0m\n\u001b[0;32m    441\u001b[0m     allow_object\u001b[38;5;241m=\u001b[39m\u001b[38;5;28;01mTrue\u001b[39;00m,\n\u001b[0;32m    442\u001b[0m )\n\u001b[0;32m    444\u001b[0m \u001b[38;5;28;01mif\u001b[39;00m tz_parsed \u001b[38;5;129;01mis\u001b[39;00m \u001b[38;5;129;01mnot\u001b[39;00m \u001b[38;5;28;01mNone\u001b[39;00m:\n\u001b[0;32m    445\u001b[0m     \u001b[38;5;66;03m# We can take a shortcut since the datetime64 numpy array\u001b[39;00m\n\u001b[0;32m    446\u001b[0m     \u001b[38;5;66;03m# is in UTC\u001b[39;00m\n",
      "File \u001b[1;32m~\\AppData\\Local\\Programs\\Python\\Python312\\Lib\\site-packages\\pandas\\core\\tools\\datetimes.py:467\u001b[0m, in \u001b[0;36m_array_strptime_with_fallback\u001b[1;34m(arg, name, utc, fmt, exact, errors)\u001b[0m\n\u001b[0;32m    456\u001b[0m \u001b[38;5;28;01mdef\u001b[39;00m \u001b[38;5;21m_array_strptime_with_fallback\u001b[39m(\n\u001b[0;32m    457\u001b[0m     arg,\n\u001b[0;32m    458\u001b[0m     name,\n\u001b[1;32m   (...)\u001b[0m\n\u001b[0;32m    462\u001b[0m     errors: \u001b[38;5;28mstr\u001b[39m,\n\u001b[0;32m    463\u001b[0m ) \u001b[38;5;241m-\u001b[39m\u001b[38;5;241m>\u001b[39m Index:\n\u001b[0;32m    464\u001b[0m \u001b[38;5;250m    \u001b[39m\u001b[38;5;124;03m\"\"\"\u001b[39;00m\n\u001b[0;32m    465\u001b[0m \u001b[38;5;124;03m    Call array_strptime, with fallback behavior depending on 'errors'.\u001b[39;00m\n\u001b[0;32m    466\u001b[0m \u001b[38;5;124;03m    \"\"\"\u001b[39;00m\n\u001b[1;32m--> 467\u001b[0m     result, tz_out \u001b[38;5;241m=\u001b[39m \u001b[43marray_strptime\u001b[49m\u001b[43m(\u001b[49m\u001b[43marg\u001b[49m\u001b[43m,\u001b[49m\u001b[43m \u001b[49m\u001b[43mfmt\u001b[49m\u001b[43m,\u001b[49m\u001b[43m \u001b[49m\u001b[43mexact\u001b[49m\u001b[38;5;241;43m=\u001b[39;49m\u001b[43mexact\u001b[49m\u001b[43m,\u001b[49m\u001b[43m \u001b[49m\u001b[43merrors\u001b[49m\u001b[38;5;241;43m=\u001b[39;49m\u001b[43merrors\u001b[49m\u001b[43m,\u001b[49m\u001b[43m \u001b[49m\u001b[43mutc\u001b[49m\u001b[38;5;241;43m=\u001b[39;49m\u001b[43mutc\u001b[49m\u001b[43m)\u001b[49m\n\u001b[0;32m    468\u001b[0m     \u001b[38;5;28;01mif\u001b[39;00m tz_out \u001b[38;5;129;01mis\u001b[39;00m \u001b[38;5;129;01mnot\u001b[39;00m \u001b[38;5;28;01mNone\u001b[39;00m:\n\u001b[0;32m    469\u001b[0m         unit \u001b[38;5;241m=\u001b[39m np\u001b[38;5;241m.\u001b[39mdatetime_data(result\u001b[38;5;241m.\u001b[39mdtype)[\u001b[38;5;241m0\u001b[39m]\n",
      "File \u001b[1;32mstrptime.pyx:501\u001b[0m, in \u001b[0;36mpandas._libs.tslibs.strptime.array_strptime\u001b[1;34m()\u001b[0m\n",
      "File \u001b[1;32mstrptime.pyx:451\u001b[0m, in \u001b[0;36mpandas._libs.tslibs.strptime.array_strptime\u001b[1;34m()\u001b[0m\n",
      "File \u001b[1;32mstrptime.pyx:583\u001b[0m, in \u001b[0;36mpandas._libs.tslibs.strptime._parse_with_format\u001b[1;34m()\u001b[0m\n",
      "\u001b[1;31mValueError\u001b[0m: time data \"4/13/23 9:27\" doesn't match format \"%Y-%m-%d %H:%M:%S\", at position 5672. You might want to try:\n    - passing `format` if your strings have a consistent format;\n    - passing `format='ISO8601'` if your strings are all ISO8601 but not necessarily in exactly the same format;\n    - passing `format='mixed'`, and the format will be inferred for each element individually. You might want to use `dayfirst` alongside this."
     ]
    }
   ],
   "source": [
    "df.data_of_sale = pd.to_datetime(arg = df.data_of_sale, yearfirst= True, format= \"%Y-%m-%d %H:%M:%S\")"
   ]
  },
  {
   "cell_type": "markdown",
   "id": "2c366979-0cfe-42fc-8431-5d0911fcf7ab",
   "metadata": {},
   "source": [
    "## Грустно, мы видим что формат даты в ячейках отличается, нужно пофиксить это\n",
    "\n",
    "### Можно это сделать через try except, но это муторно и долго, можно не прописывать формат, тогда pandas сам все должен преобразовать под капотом Но я этому не особо доверяю (обжигался уже)), баги потом долго искать, поэтому сделаем 2 обработки "
   ]
  },
  {
   "cell_type": "code",
   "execution_count": null,
   "id": "8143c8cd-23ab-4cc8-9376-40853ce6df6f",
   "metadata": {},
   "outputs": [],
   "source": [
    "df['data_of_sale'] = pd.to_datetime(df['data_of_sale'], format=\"%d.%m.%Y %H:%M\", errors='ignore')\n",
    "df['data_of_sale'] = pd.to_datetime(df['data_of_sale'], format=\"%m/%d/%y %H:%M\", errors='ignore')"
   ]
  },
  {
   "cell_type": "markdown",
   "id": "281cdab0-2fec-49e7-9ebf-0febad6bc815",
   "metadata": {},
   "source": [
    "### Отлично, с этим справились, все остальные параметры проставлены верно, можно двигаться дальше \n",
    "\n",
    "# 2 Проверим таблицу на дубликаты"
   ]
  },
  {
   "cell_type": "code",
   "execution_count": 10,
   "id": "7f0a2a85-d01c-4076-a5e5-ab57dc0b8b9b",
   "metadata": {},
   "outputs": [
    {
     "data": {
      "text/plain": [
       "data_of_sale      0\n",
       "num_of_receipt    0\n",
       "name              0\n",
       "barkod            0\n",
       "staff_group       0\n",
       "parameter         0\n",
       "weight            0\n",
       "sell_price        0\n",
       "cost_price        0\n",
       "dtype: int64"
      ]
     },
     "execution_count": 10,
     "metadata": {},
     "output_type": "execute_result"
    }
   ],
   "source": [
    "df[df.duplicated()].count()"
   ]
  },
  {
   "cell_type": "markdown",
   "id": "0325d996-6d10-4ddb-9a4f-8a4543dc9a08",
   "metadata": {},
   "source": [
    "### 3 Начнем обработку данных по ТЗ\n",
    "#### Напомню ТЗ \n",
    "\n",
    "##### Рассчитайте наценку на ювелирные изделия по данным на листе \"\"Задание 2\"\". Соблюсти следующие условия:\n",
    "##### 1. Период анализа - с 1.04.23 по 10.04.23\n",
    "##### 2. В анализе должны участвовать только продажи изделий с общей суммой и себестоимостью больше 0 рублей\n",
    "##### 3. В ответе необходимо получить два значения наценки - среднюю наценку на ювелирные изделия из золота и среднюю наценку на ювелирные изделия из серебра. Сгруппировать изделия по металлу нужно на основе поля \"\"Товарная группа\"\". Товарная группа изделий из серебра начинается на \"\"СИ\"\", все остальные изделия - это золото."
   ]
  },
  {
   "cell_type": "code",
   "execution_count": null,
   "id": "81f88983-e0b2-401c-a17a-93b69242a4b3",
   "metadata": {},
   "outputs": [],
   "source": [
    "\n",
    "\n"
   ]
  },
  {
   "cell_type": "markdown",
   "id": "5c4ff9c9-ee54-4a71-817e-ac5d40129787",
   "metadata": {},
   "source": [
    "### Возьмем данные, которые входят во временой промежуток с 1.04.2023 - 10.04.2023 и где стоимость и себестоимость больше 0"
   ]
  },
  {
   "cell_type": "code",
   "execution_count": 11,
   "id": "036da697-0666-4e70-bd97-3a9a41935a61",
   "metadata": {},
   "outputs": [],
   "source": [
    "new_df = df[(df.data_of_sale >= '2023.04.01') & \\\n",
    "        (df.data_of_sale <= '10.04.2023') & \\\n",
    "        (df.sell_price > 0) & \\\n",
    "        (df.cost_price > 0)] "
   ]
  },
  {
   "cell_type": "code",
   "execution_count": 12,
   "id": "d59221bb-00cf-4bf2-9478-69fda9602146",
   "metadata": {},
   "outputs": [
    {
     "name": "stdout",
     "output_type": "stream",
     "text": [
      "<class 'pandas.core.frame.DataFrame'>\n",
      "Index: 15209 entries, 3695 to 28198\n",
      "Data columns (total 9 columns):\n",
      " #   Column          Non-Null Count  Dtype         \n",
      "---  ------          --------------  -----         \n",
      " 0   data_of_sale    15209 non-null  datetime64[ns]\n",
      " 1   num_of_receipt  15209 non-null  int64         \n",
      " 2   name            15209 non-null  object        \n",
      " 3   barkod          15209 non-null  int64         \n",
      " 4   staff_group     15209 non-null  object        \n",
      " 5   parameter       15209 non-null  object        \n",
      " 6   weight          15209 non-null  float64       \n",
      " 7   sell_price      15209 non-null  float64       \n",
      " 8   cost_price      15209 non-null  float64       \n",
      "dtypes: datetime64[ns](1), float64(3), int64(2), object(3)\n",
      "memory usage: 1.2+ MB\n"
     ]
    }
   ],
   "source": [
    "new_df.info()"
   ]
  },
  {
   "cell_type": "markdown",
   "id": "563b3588-f9d8-4e63-a861-31e9d5e28f86",
   "metadata": {},
   "source": [
    "### 3. В ответе необходимо получить два значения наценки - среднюю наценку на ювелирные изделия из золота и среднюю наценку на ювелирные изделия из серебра. Сгруппировать изделия по металлу нужно на основе поля \"\"Товарная группа\"\". Товарная группа изделий из серебра начинается на \"\"СИ\"\", все остальные изделия - это золото."
   ]
  },
  {
   "cell_type": "code",
   "execution_count": null,
   "id": "2047b146-f9d4-4f57-ab79-94efc1329d37",
   "metadata": {},
   "outputs": [],
   "source": [
    "new_df['revenue_from_staff'] = df.sell_price - df.cost_price"
   ]
  },
  {
   "cell_type": "code",
   "execution_count": 136,
   "id": "214c6fa8-3861-4150-b58f-f691f0f3e067",
   "metadata": {},
   "outputs": [
    {
     "name": "stderr",
     "output_type": "stream",
     "text": [
      "C:\\Users\\Sasha\\AppData\\Local\\Temp\\ipykernel_8688\\3785643722.py:1: SettingWithCopyWarning: \n",
      "A value is trying to be set on a copy of a slice from a DataFrame.\n",
      "Try using .loc[row_indexer,col_indexer] = value instead\n",
      "\n",
      "See the caveats in the documentation: https://pandas.pydata.org/pandas-docs/stable/user_guide/indexing.html#returning-a-view-versus-a-copy\n",
      "  new_df['group'] = np.where(new_df['staff_group'].str.startswith('СИ '), 'Silver', 'Gold')\n"
     ]
    }
   ],
   "source": [
    "new_df['group'] = np.where(new_df['staff_group'].str.startswith('СИ '), 'Silver', 'Gold')"
   ]
  },
  {
   "cell_type": "code",
   "execution_count": 144,
   "id": "ab13a4e0-b6b2-48bf-b968-2e7b18f61cf6",
   "metadata": {},
   "outputs": [
    {
     "data": {
      "text/html": [
       "<div>\n",
       "<style scoped>\n",
       "    .dataframe tbody tr th:only-of-type {\n",
       "        vertical-align: middle;\n",
       "    }\n",
       "\n",
       "    .dataframe tbody tr th {\n",
       "        vertical-align: top;\n",
       "    }\n",
       "\n",
       "    .dataframe thead th {\n",
       "        text-align: right;\n",
       "    }\n",
       "</style>\n",
       "<table border=\"1\" class=\"dataframe\">\n",
       "  <thead>\n",
       "    <tr style=\"text-align: right;\">\n",
       "      <th></th>\n",
       "      <th>data_of_sale</th>\n",
       "      <th>num_of_receipt</th>\n",
       "      <th>name</th>\n",
       "      <th>barkod</th>\n",
       "      <th>staff_group</th>\n",
       "      <th>parameter</th>\n",
       "      <th>weight</th>\n",
       "      <th>sell_price</th>\n",
       "      <th>cost_price</th>\n",
       "      <th>revenue_from_staff</th>\n",
       "      <th>group</th>\n",
       "    </tr>\n",
       "  </thead>\n",
       "  <tbody>\n",
       "    <tr>\n",
       "      <th>16928</th>\n",
       "      <td>2023-04-15 20:10:00</td>\n",
       "      <td>9451</td>\n",
       "      <td>Цепь Бисмарк с а/г ручной</td>\n",
       "      <td>1078603739601</td>\n",
       "      <td>ЦБ ЦЕПИ</td>\n",
       "      <td>Au 585º -, разм.60,0</td>\n",
       "      <td>40.82</td>\n",
       "      <td>230340.0</td>\n",
       "      <td>102959.9830</td>\n",
       "      <td>127380.0170</td>\n",
       "      <td>Gold</td>\n",
       "    </tr>\n",
       "    <tr>\n",
       "      <th>10249</th>\n",
       "      <td>2023-09-04 16:53:00</td>\n",
       "      <td>1619</td>\n",
       "      <td>Цепь Адмирал ручной</td>\n",
       "      <td>1078603090398</td>\n",
       "      <td>ЦБ ЦЕПИ</td>\n",
       "      <td>Au 585º -, разм.55,0</td>\n",
       "      <td>50.71</td>\n",
       "      <td>227400.0</td>\n",
       "      <td>131051.2745</td>\n",
       "      <td>96348.7255</td>\n",
       "      <td>Gold</td>\n",
       "    </tr>\n",
       "    <tr>\n",
       "      <th>5859</th>\n",
       "      <td>2023-05-04 20:58:00</td>\n",
       "      <td>3893</td>\n",
       "      <td>кольцо с брилл.с родир.</td>\n",
       "      <td>1078341606943</td>\n",
       "      <td>ДК КОЛЬЦА</td>\n",
       "      <td>Au 585º -, разм.18,0</td>\n",
       "      <td>4.49</td>\n",
       "      <td>343618.8</td>\n",
       "      <td>253309.1085</td>\n",
       "      <td>90309.6915</td>\n",
       "      <td>Gold</td>\n",
       "    </tr>\n",
       "    <tr>\n",
       "      <th>26719</th>\n",
       "      <td>2023-05-04 19:50:00</td>\n",
       "      <td>7305</td>\n",
       "      <td>Цепь Бисмарк с а/г ручной</td>\n",
       "      <td>1078601994530</td>\n",
       "      <td>ЦБ ЦЕПИ</td>\n",
       "      <td>Au 585º -, разм.70,0</td>\n",
       "      <td>47.56</td>\n",
       "      <td>213300.0</td>\n",
       "      <td>123057.7855</td>\n",
       "      <td>90242.2145</td>\n",
       "      <td>Gold</td>\n",
       "    </tr>\n",
       "    <tr>\n",
       "      <th>13598</th>\n",
       "      <td>2023-04-13 11:32:00</td>\n",
       "      <td>3313</td>\n",
       "      <td>Цепь Ромб тройной пуст с а/г</td>\n",
       "      <td>1078601403610</td>\n",
       "      <td>ЦБ ЦЕПИ</td>\n",
       "      <td>Au 585º -, разм.70,0</td>\n",
       "      <td>17.36</td>\n",
       "      <td>135660.0</td>\n",
       "      <td>56539.8650</td>\n",
       "      <td>79120.1350</td>\n",
       "      <td>Gold</td>\n",
       "    </tr>\n",
       "    <tr>\n",
       "      <th>...</th>\n",
       "      <td>...</td>\n",
       "      <td>...</td>\n",
       "      <td>...</td>\n",
       "      <td>...</td>\n",
       "      <td>...</td>\n",
       "      <td>...</td>\n",
       "      <td>...</td>\n",
       "      <td>...</td>\n",
       "      <td>...</td>\n",
       "      <td>...</td>\n",
       "      <td>...</td>\n",
       "    </tr>\n",
       "    <tr>\n",
       "      <th>8234</th>\n",
       "      <td>2023-08-04 12:20:00</td>\n",
       "      <td>1314</td>\n",
       "      <td>Подвес Сердце с брилл. поз.</td>\n",
       "      <td>1078600516556</td>\n",
       "      <td>СИ ДФРС ПРОЕКТ</td>\n",
       "      <td>Ag 925º -</td>\n",
       "      <td>0.00</td>\n",
       "      <td>1.2</td>\n",
       "      <td>322.0000</td>\n",
       "      <td>-320.8000</td>\n",
       "      <td>Silver</td>\n",
       "    </tr>\n",
       "    <tr>\n",
       "      <th>10118</th>\n",
       "      <td>2023-09-04 15:58:00</td>\n",
       "      <td>5039</td>\n",
       "      <td>Подвес Сердце с брилл. поз.</td>\n",
       "      <td>1078600531110</td>\n",
       "      <td>СИ ДФРС ПРОЕКТ</td>\n",
       "      <td>Ag 925º -</td>\n",
       "      <td>0.00</td>\n",
       "      <td>1.2</td>\n",
       "      <td>322.0000</td>\n",
       "      <td>-320.8000</td>\n",
       "      <td>Silver</td>\n",
       "    </tr>\n",
       "    <tr>\n",
       "      <th>25693</th>\n",
       "      <td>2023-05-04 14:39:00</td>\n",
       "      <td>1846</td>\n",
       "      <td>Подвес Сердце с брилл. поз.</td>\n",
       "      <td>1078600518107</td>\n",
       "      <td>СИ ДФРС ПРОЕКТ</td>\n",
       "      <td>Ag 925º -</td>\n",
       "      <td>0.00</td>\n",
       "      <td>1.2</td>\n",
       "      <td>322.0000</td>\n",
       "      <td>-320.8000</td>\n",
       "      <td>Silver</td>\n",
       "    </tr>\n",
       "    <tr>\n",
       "      <th>25909</th>\n",
       "      <td>2023-05-04 15:44:00</td>\n",
       "      <td>1849</td>\n",
       "      <td>Подвес Сердце с брилл. поз.</td>\n",
       "      <td>1078600518115</td>\n",
       "      <td>СИ ДФРС ПРОЕКТ</td>\n",
       "      <td>Ag 925º -</td>\n",
       "      <td>0.00</td>\n",
       "      <td>1.2</td>\n",
       "      <td>322.0000</td>\n",
       "      <td>-320.8000</td>\n",
       "      <td>Silver</td>\n",
       "    </tr>\n",
       "    <tr>\n",
       "      <th>8310</th>\n",
       "      <td>2023-08-04 12:57:00</td>\n",
       "      <td>5011</td>\n",
       "      <td>Подвес Сердце с брилл. поз.</td>\n",
       "      <td>1078600545689</td>\n",
       "      <td>СИ ДФРС ПРОЕКТ</td>\n",
       "      <td>Ag 925º -</td>\n",
       "      <td>0.00</td>\n",
       "      <td>1.2</td>\n",
       "      <td>322.0000</td>\n",
       "      <td>-320.8000</td>\n",
       "      <td>Silver</td>\n",
       "    </tr>\n",
       "  </tbody>\n",
       "</table>\n",
       "<p>15209 rows × 11 columns</p>\n",
       "</div>"
      ],
      "text/plain": [
       "             data_of_sale  num_of_receipt                          name  \\\n",
       "16928 2023-04-15 20:10:00            9451     Цепь Бисмарк с а/г ручной   \n",
       "10249 2023-09-04 16:53:00            1619           Цепь Адмирал ручной   \n",
       "5859  2023-05-04 20:58:00            3893       кольцо с брилл.с родир.   \n",
       "26719 2023-05-04 19:50:00            7305     Цепь Бисмарк с а/г ручной   \n",
       "13598 2023-04-13 11:32:00            3313  Цепь Ромб тройной пуст с а/г   \n",
       "...                   ...             ...                           ...   \n",
       "8234  2023-08-04 12:20:00            1314   Подвес Сердце с брилл. поз.   \n",
       "10118 2023-09-04 15:58:00            5039   Подвес Сердце с брилл. поз.   \n",
       "25693 2023-05-04 14:39:00            1846   Подвес Сердце с брилл. поз.   \n",
       "25909 2023-05-04 15:44:00            1849   Подвес Сердце с брилл. поз.   \n",
       "8310  2023-08-04 12:57:00            5011   Подвес Сердце с брилл. поз.   \n",
       "\n",
       "              barkod     staff_group             parameter  weight  \\\n",
       "16928  1078603739601         ЦБ ЦЕПИ  Au 585º -, разм.60,0   40.82   \n",
       "10249  1078603090398         ЦБ ЦЕПИ  Au 585º -, разм.55,0   50.71   \n",
       "5859   1078341606943       ДК КОЛЬЦА  Au 585º -, разм.18,0    4.49   \n",
       "26719  1078601994530         ЦБ ЦЕПИ  Au 585º -, разм.70,0   47.56   \n",
       "13598  1078601403610         ЦБ ЦЕПИ  Au 585º -, разм.70,0   17.36   \n",
       "...              ...             ...                   ...     ...   \n",
       "8234   1078600516556  СИ ДФРС ПРОЕКТ             Ag 925º -    0.00   \n",
       "10118  1078600531110  СИ ДФРС ПРОЕКТ             Ag 925º -    0.00   \n",
       "25693  1078600518107  СИ ДФРС ПРОЕКТ             Ag 925º -    0.00   \n",
       "25909  1078600518115  СИ ДФРС ПРОЕКТ             Ag 925º -    0.00   \n",
       "8310   1078600545689  СИ ДФРС ПРОЕКТ             Ag 925º -    0.00   \n",
       "\n",
       "       sell_price   cost_price  revenue_from_staff   group  \n",
       "16928    230340.0  102959.9830         127380.0170    Gold  \n",
       "10249    227400.0  131051.2745          96348.7255    Gold  \n",
       "5859     343618.8  253309.1085          90309.6915    Gold  \n",
       "26719    213300.0  123057.7855          90242.2145    Gold  \n",
       "13598    135660.0   56539.8650          79120.1350    Gold  \n",
       "...           ...          ...                 ...     ...  \n",
       "8234          1.2     322.0000           -320.8000  Silver  \n",
       "10118         1.2     322.0000           -320.8000  Silver  \n",
       "25693         1.2     322.0000           -320.8000  Silver  \n",
       "25909         1.2     322.0000           -320.8000  Silver  \n",
       "8310          1.2     322.0000           -320.8000  Silver  \n",
       "\n",
       "[15209 rows x 11 columns]"
      ]
     },
     "execution_count": 144,
     "metadata": {},
     "output_type": "execute_result"
    }
   ],
   "source": [
    "new_df.sort_values('revenue_from_staff', ascending = False)"
   ]
  },
  {
   "cell_type": "code",
   "execution_count": 145,
   "id": "cd37a920-f6bc-4636-a1c8-aeea3ec9a9ae",
   "metadata": {},
   "outputs": [
    {
     "data": {
      "text/plain": [
       "<Axes: >"
      ]
     },
     "execution_count": 145,
     "metadata": {},
     "output_type": "execute_result"
    },
    {
     "data": {
      "image/png": "[encoded data removed]",
      "text/plain": [
       "<Figure size 640x480 with 1 Axes>"
      ]
     },
     "metadata": {},
     "output_type": "display_data"
    }
   ],
   "source": [
    "new_df[new_df.group == 'Gold']['revenue_from_staff'].plot()"
   ]
  },
  {
   "cell_type": "code",
   "execution_count": 146,
   "id": "726ff5d8-be58-4c30-b80a-ebe1ed352d77",
   "metadata": {},
   "outputs": [
    {
     "data": {
      "text/plain": [
       "<Axes: >"
      ]
     },
     "execution_count": 146,
     "metadata": {},
     "output_type": "execute_result"
    },
    {
     "data": {
      "image/png": "[encoded data removed]",
      "text/plain": [
       "<Figure size 640x480 with 1 Axes>"
      ]
     },
     "metadata": {},
     "output_type": "display_data"
    }
   ],
   "source": [
    "new_df[new_df.group == 'Silver']['revenue_from_staff'].plot()"
   ]
  },
  {
   "cell_type": "code",
   "execution_count": 31,
   "id": "feb151cb-7a44-43e5-9179-d1804ec0f531",
   "metadata": {},
   "outputs": [
    {
     "data": {
      "text/html": [
       "<div>\n",
       "<style scoped>\n",
       "    .dataframe tbody tr th:only-of-type {\n",
       "        vertical-align: middle;\n",
       "    }\n",
       "\n",
       "    .dataframe tbody tr th {\n",
       "        vertical-align: top;\n",
       "    }\n",
       "\n",
       "    .dataframe thead th {\n",
       "        text-align: right;\n",
       "    }\n",
       "</style>\n",
       "<table border=\"1\" class=\"dataframe\">\n",
       "  <thead>\n",
       "    <tr style=\"text-align: right;\">\n",
       "      <th></th>\n",
       "      <th>data_of_sale</th>\n",
       "      <th>num_of_receipt</th>\n",
       "      <th>name</th>\n",
       "      <th>barkod</th>\n",
       "      <th>staff_group</th>\n",
       "      <th>parameter</th>\n",
       "      <th>weight</th>\n",
       "      <th>sell_price</th>\n",
       "      <th>cost_price</th>\n",
       "      <th>revenue_from_staff</th>\n",
       "      <th>group</th>\n",
       "    </tr>\n",
       "  </thead>\n",
       "  <tbody>\n",
       "    <tr>\n",
       "      <th>3695</th>\n",
       "      <td>2023-04-04 09:41:00</td>\n",
       "      <td>1418</td>\n",
       "      <td>Серьги-конго</td>\n",
       "      <td>1078603771148</td>\n",
       "      <td>БК СЕРЬГИ</td>\n",
       "      <td>Au 585º -, разм.2,0</td>\n",
       "      <td>1.27</td>\n",
       "      <td>9180.0</td>\n",
       "      <td>3337.3345</td>\n",
       "      <td>5842.6655</td>\n",
       "      <td>Gold</td>\n",
       "    </tr>\n",
       "    <tr>\n",
       "      <th>3696</th>\n",
       "      <td>2023-04-04 09:41:00</td>\n",
       "      <td>1418</td>\n",
       "      <td>Серьги-конго</td>\n",
       "      <td>1078601848189</td>\n",
       "      <td>БК СЕРЬГИ</td>\n",
       "      <td>Au 585º -, разм.3,0</td>\n",
       "      <td>2.17</td>\n",
       "      <td>15600.0</td>\n",
       "      <td>6294.5825</td>\n",
       "      <td>9305.4175</td>\n",
       "      <td>Gold</td>\n",
       "    </tr>\n",
       "    <tr>\n",
       "      <th>3697</th>\n",
       "      <td>2023-04-04 09:48:00</td>\n",
       "      <td>3309</td>\n",
       "      <td>Кольцо-печатка с чёрн.эмалью, фиан. род.</td>\n",
       "      <td>1078580803357</td>\n",
       "      <td>СИ КОЛЬЦО ПЕЧАТ</td>\n",
       "      <td>Ag 925º -, разм.20,0</td>\n",
       "      <td>2.67</td>\n",
       "      <td>2280.0</td>\n",
       "      <td>647.8755</td>\n",
       "      <td>1632.1245</td>\n",
       "      <td>Silver</td>\n",
       "    </tr>\n",
       "    <tr>\n",
       "      <th>3698</th>\n",
       "      <td>2023-04-04 09:51:00</td>\n",
       "      <td>3310</td>\n",
       "      <td>Кольцо-печатка с фиан. черн.</td>\n",
       "      <td>1078603110611</td>\n",
       "      <td>СИ КОЛЬЦО ПЕЧАТ</td>\n",
       "      <td>Ag 925º -, разм.20,0</td>\n",
       "      <td>2.26</td>\n",
       "      <td>624.0</td>\n",
       "      <td>233.9100</td>\n",
       "      <td>390.0900</td>\n",
       "      <td>Silver</td>\n",
       "    </tr>\n",
       "    <tr>\n",
       "      <th>3699</th>\n",
       "      <td>2023-04-04 09:53:00</td>\n",
       "      <td>1419</td>\n",
       "      <td>Подвес</td>\n",
       "      <td>1078468601099</td>\n",
       "      <td>БК ПОДВЕС ДЕКОР</td>\n",
       "      <td>Au 585º -</td>\n",
       "      <td>0.98</td>\n",
       "      <td>7620.0</td>\n",
       "      <td>2127.7185</td>\n",
       "      <td>5492.2815</td>\n",
       "      <td>Gold</td>\n",
       "    </tr>\n",
       "  </tbody>\n",
       "</table>\n",
       "</div>"
      ],
      "text/plain": [
       "            data_of_sale  num_of_receipt  \\\n",
       "3695 2023-04-04 09:41:00            1418   \n",
       "3696 2023-04-04 09:41:00            1418   \n",
       "3697 2023-04-04 09:48:00            3309   \n",
       "3698 2023-04-04 09:51:00            3310   \n",
       "3699 2023-04-04 09:53:00            1419   \n",
       "\n",
       "                                          name         barkod  \\\n",
       "3695                              Серьги-конго  1078603771148   \n",
       "3696                              Серьги-конго  1078601848189   \n",
       "3697  Кольцо-печатка с чёрн.эмалью, фиан. род.  1078580803357   \n",
       "3698              Кольцо-печатка с фиан. черн.  1078603110611   \n",
       "3699                                    Подвес  1078468601099   \n",
       "\n",
       "          staff_group             parameter  weight  sell_price  cost_price  \\\n",
       "3695        БК СЕРЬГИ   Au 585º -, разм.2,0    1.27      9180.0   3337.3345   \n",
       "3696        БК СЕРЬГИ   Au 585º -, разм.3,0    2.17     15600.0   6294.5825   \n",
       "3697  СИ КОЛЬЦО ПЕЧАТ  Ag 925º -, разм.20,0    2.67      2280.0    647.8755   \n",
       "3698  СИ КОЛЬЦО ПЕЧАТ  Ag 925º -, разм.20,0    2.26       624.0    233.9100   \n",
       "3699  БК ПОДВЕС ДЕКОР             Au 585º -    0.98      7620.0   2127.7185   \n",
       "\n",
       "      revenue_from_staff   group  \n",
       "3695           5842.6655    Gold  \n",
       "3696           9305.4175    Gold  \n",
       "3697           1632.1245  Silver  \n",
       "3698            390.0900  Silver  \n",
       "3699           5492.2815    Gold  "
      ]
     },
     "execution_count": 31,
     "metadata": {},
     "output_type": "execute_result"
    }
   ],
   "source": [
    "new_df.head(5)"
   ]
  },
  {
   "cell_type": "code",
   "execution_count": 35,
   "id": "06ae4512-1094-40b3-a1ed-0acc78aaf2b6",
   "metadata": {},
   "outputs": [
    {
     "data": {
      "text/plain": [
       "group\n",
       "Gold      0.550266\n",
       "Silver    0.449734\n",
       "Name: proportion, dtype: float64"
      ]
     },
     "execution_count": 35,
     "metadata": {},
     "output_type": "execute_result"
    }
   ],
   "source": [
    "new_df.value_counts(subset = new_df.group, normalize= True)"
   ]
  },
  {
   "cell_type": "markdown",
   "id": "a26a9a16-ea55-47c6-a30b-9edf7d22a34d",
   "metadata": {},
   "source": [
    "### 55% данных в таблице это Золото\n",
    "### 45% данных это серебро "
   ]
  },
  {
   "cell_type": "code",
   "execution_count": 54,
   "id": "ff458f9c-fdd8-4b92-82e5-e3f7949aac76",
   "metadata": {},
   "outputs": [],
   "source": [
    "result = new_df.groupby('group')['revenue_from_staff'].agg(['mean', 'max', 'min'])\n",
    "result.columns = ['mean_revenue', 'max_revenue', 'min_revenue'] \n",
    "result = result.reset_index() "
   ]
  },
  {
   "cell_type": "code",
   "execution_count": 55,
   "id": "2e00a4ad-acbe-4dd5-b338-7a958b7ed39d",
   "metadata": {},
   "outputs": [
    {
     "data": {
      "text/html": [
       "<div>\n",
       "<style scoped>\n",
       "    .dataframe tbody tr th:only-of-type {\n",
       "        vertical-align: middle;\n",
       "    }\n",
       "\n",
       "    .dataframe tbody tr th {\n",
       "        vertical-align: top;\n",
       "    }\n",
       "\n",
       "    .dataframe thead th {\n",
       "        text-align: right;\n",
       "    }\n",
       "</style>\n",
       "<table border=\"1\" class=\"dataframe\">\n",
       "  <thead>\n",
       "    <tr style=\"text-align: right;\">\n",
       "      <th></th>\n",
       "      <th>group</th>\n",
       "      <th>mean_revenue</th>\n",
       "      <th>max_revenue</th>\n",
       "      <th>min_revenue</th>\n",
       "    </tr>\n",
       "  </thead>\n",
       "  <tbody>\n",
       "    <tr>\n",
       "      <th>0</th>\n",
       "      <td>Gold</td>\n",
       "      <td>8903.841539</td>\n",
       "      <td>127380.017</td>\n",
       "      <td>292.7925</td>\n",
       "    </tr>\n",
       "    <tr>\n",
       "      <th>1</th>\n",
       "      <td>Silver</td>\n",
       "      <td>1244.156843</td>\n",
       "      <td>17148.050</td>\n",
       "      <td>-320.8000</td>\n",
       "    </tr>\n",
       "  </tbody>\n",
       "</table>\n",
       "</div>"
      ],
      "text/plain": [
       "    group  mean_revenue  max_revenue  min_revenue\n",
       "0    Gold   8903.841539   127380.017     292.7925\n",
       "1  Silver   1244.156843    17148.050    -320.8000"
      ]
     },
     "execution_count": 55,
     "metadata": {},
     "output_type": "execute_result"
    }
   ],
   "source": [
    "result"
   ]
  },
  {
   "cell_type": "markdown",
   "id": "11d7113f-fb4c-4f7a-84ad-bf6791794276",
   "metadata": {},
   "source": [
    "### Интересно, мы получили, что min_revenue в Silver получилось отрицаиельным, значит есть товары, которые продаются ниже своей себестоимости, посмотрим на эти товары.\n",
    "### Проще всего будет создать новую таблицу и там через логические операции все посчитать "
   ]
  },
  {
   "cell_type": "code",
   "execution_count": 59,
   "id": "891d0a95-23e9-4fe0-835c-2a13a416ea67",
   "metadata": {},
   "outputs": [],
   "source": [
    "silver = new_df[new_df.group == 'Silver']"
   ]
  },
  {
   "cell_type": "code",
   "execution_count": 62,
   "id": "56877f31-5365-47d9-8315-67ac65aabfc0",
   "metadata": {},
   "outputs": [
    {
     "data": {
      "text/html": [
       "<div>\n",
       "<style scoped>\n",
       "    .dataframe tbody tr th:only-of-type {\n",
       "        vertical-align: middle;\n",
       "    }\n",
       "\n",
       "    .dataframe tbody tr th {\n",
       "        vertical-align: top;\n",
       "    }\n",
       "\n",
       "    .dataframe thead th {\n",
       "        text-align: right;\n",
       "    }\n",
       "</style>\n",
       "<table border=\"1\" class=\"dataframe\">\n",
       "  <thead>\n",
       "    <tr style=\"text-align: right;\">\n",
       "      <th></th>\n",
       "      <th>data_of_sale</th>\n",
       "      <th>num_of_receipt</th>\n",
       "      <th>name</th>\n",
       "      <th>barkod</th>\n",
       "      <th>staff_group</th>\n",
       "      <th>parameter</th>\n",
       "      <th>weight</th>\n",
       "      <th>sell_price</th>\n",
       "      <th>cost_price</th>\n",
       "      <th>revenue_from_staff</th>\n",
       "      <th>group</th>\n",
       "    </tr>\n",
       "  </thead>\n",
       "  <tbody>\n",
       "    <tr>\n",
       "      <th>4749</th>\n",
       "      <td>2023-05-04 10:24:00</td>\n",
       "      <td>1303</td>\n",
       "      <td>Подвес Сердце с брилл. поз.</td>\n",
       "      <td>1078600516468</td>\n",
       "      <td>СИ ДФРС ПРОЕКТ</td>\n",
       "      <td>Ag 925º -</td>\n",
       "      <td>0.00</td>\n",
       "      <td>1.2</td>\n",
       "      <td>322.0</td>\n",
       "      <td>-320.8</td>\n",
       "      <td>Silver</td>\n",
       "    </tr>\n",
       "    <tr>\n",
       "      <th>6715</th>\n",
       "      <td>2023-06-04 19:00:00</td>\n",
       "      <td>5007</td>\n",
       "      <td>Подвес Сердце с брилл. поз.</td>\n",
       "      <td>1078600545713</td>\n",
       "      <td>СИ ДФРС ПРОЕКТ</td>\n",
       "      <td>Ag 925º -</td>\n",
       "      <td>0.00</td>\n",
       "      <td>1.2</td>\n",
       "      <td>322.0</td>\n",
       "      <td>-320.8</td>\n",
       "      <td>Silver</td>\n",
       "    </tr>\n",
       "    <tr>\n",
       "      <th>8234</th>\n",
       "      <td>2023-08-04 12:20:00</td>\n",
       "      <td>1314</td>\n",
       "      <td>Подвес Сердце с брилл. поз.</td>\n",
       "      <td>1078600516556</td>\n",
       "      <td>СИ ДФРС ПРОЕКТ</td>\n",
       "      <td>Ag 925º -</td>\n",
       "      <td>0.00</td>\n",
       "      <td>1.2</td>\n",
       "      <td>322.0</td>\n",
       "      <td>-320.8</td>\n",
       "      <td>Silver</td>\n",
       "    </tr>\n",
       "    <tr>\n",
       "      <th>8310</th>\n",
       "      <td>2023-08-04 12:57:00</td>\n",
       "      <td>5011</td>\n",
       "      <td>Подвес Сердце с брилл. поз.</td>\n",
       "      <td>1078600545689</td>\n",
       "      <td>СИ ДФРС ПРОЕКТ</td>\n",
       "      <td>Ag 925º -</td>\n",
       "      <td>0.00</td>\n",
       "      <td>1.2</td>\n",
       "      <td>322.0</td>\n",
       "      <td>-320.8</td>\n",
       "      <td>Silver</td>\n",
       "    </tr>\n",
       "    <tr>\n",
       "      <th>8750</th>\n",
       "      <td>2023-08-04 15:39:00</td>\n",
       "      <td>5016</td>\n",
       "      <td>Подвес Сердце с брилл. поз.</td>\n",
       "      <td>1078600545711</td>\n",
       "      <td>СИ ДФРС ПРОЕКТ</td>\n",
       "      <td>Ag 925º -</td>\n",
       "      <td>0.00</td>\n",
       "      <td>1.2</td>\n",
       "      <td>322.0</td>\n",
       "      <td>-320.8</td>\n",
       "      <td>Silver</td>\n",
       "    </tr>\n",
       "    <tr>\n",
       "      <th>9477</th>\n",
       "      <td>2023-09-04 11:29:00</td>\n",
       "      <td>4164</td>\n",
       "      <td>Подвес Сердце с брилл. поз.</td>\n",
       "      <td>1078600531731</td>\n",
       "      <td>СИ ДФРС ПРОЕКТ</td>\n",
       "      <td>Ag 925º -</td>\n",
       "      <td>0.53</td>\n",
       "      <td>1.2</td>\n",
       "      <td>322.0</td>\n",
       "      <td>-320.8</td>\n",
       "      <td>Silver</td>\n",
       "    </tr>\n",
       "    <tr>\n",
       "      <th>10118</th>\n",
       "      <td>2023-09-04 15:58:00</td>\n",
       "      <td>5039</td>\n",
       "      <td>Подвес Сердце с брилл. поз.</td>\n",
       "      <td>1078600531110</td>\n",
       "      <td>СИ ДФРС ПРОЕКТ</td>\n",
       "      <td>Ag 925º -</td>\n",
       "      <td>0.00</td>\n",
       "      <td>1.2</td>\n",
       "      <td>322.0</td>\n",
       "      <td>-320.8</td>\n",
       "      <td>Silver</td>\n",
       "    </tr>\n",
       "    <tr>\n",
       "      <th>25693</th>\n",
       "      <td>2023-05-04 14:39:00</td>\n",
       "      <td>1846</td>\n",
       "      <td>Подвес Сердце с брилл. поз.</td>\n",
       "      <td>1078600518107</td>\n",
       "      <td>СИ ДФРС ПРОЕКТ</td>\n",
       "      <td>Ag 925º -</td>\n",
       "      <td>0.00</td>\n",
       "      <td>1.2</td>\n",
       "      <td>322.0</td>\n",
       "      <td>-320.8</td>\n",
       "      <td>Silver</td>\n",
       "    </tr>\n",
       "    <tr>\n",
       "      <th>25909</th>\n",
       "      <td>2023-05-04 15:44:00</td>\n",
       "      <td>1849</td>\n",
       "      <td>Подвес Сердце с брилл. поз.</td>\n",
       "      <td>1078600518115</td>\n",
       "      <td>СИ ДФРС ПРОЕКТ</td>\n",
       "      <td>Ag 925º -</td>\n",
       "      <td>0.00</td>\n",
       "      <td>1.2</td>\n",
       "      <td>322.0</td>\n",
       "      <td>-320.8</td>\n",
       "      <td>Silver</td>\n",
       "    </tr>\n",
       "  </tbody>\n",
       "</table>\n",
       "</div>"
      ],
      "text/plain": [
       "             data_of_sale  num_of_receipt                         name  \\\n",
       "4749  2023-05-04 10:24:00            1303  Подвес Сердце с брилл. поз.   \n",
       "6715  2023-06-04 19:00:00            5007  Подвес Сердце с брилл. поз.   \n",
       "8234  2023-08-04 12:20:00            1314  Подвес Сердце с брилл. поз.   \n",
       "8310  2023-08-04 12:57:00            5011  Подвес Сердце с брилл. поз.   \n",
       "8750  2023-08-04 15:39:00            5016  Подвес Сердце с брилл. поз.   \n",
       "9477  2023-09-04 11:29:00            4164  Подвес Сердце с брилл. поз.   \n",
       "10118 2023-09-04 15:58:00            5039  Подвес Сердце с брилл. поз.   \n",
       "25693 2023-05-04 14:39:00            1846  Подвес Сердце с брилл. поз.   \n",
       "25909 2023-05-04 15:44:00            1849  Подвес Сердце с брилл. поз.   \n",
       "\n",
       "              barkod     staff_group  parameter  weight  sell_price  \\\n",
       "4749   1078600516468  СИ ДФРС ПРОЕКТ  Ag 925º -    0.00         1.2   \n",
       "6715   1078600545713  СИ ДФРС ПРОЕКТ  Ag 925º -    0.00         1.2   \n",
       "8234   1078600516556  СИ ДФРС ПРОЕКТ  Ag 925º -    0.00         1.2   \n",
       "8310   1078600545689  СИ ДФРС ПРОЕКТ  Ag 925º -    0.00         1.2   \n",
       "8750   1078600545711  СИ ДФРС ПРОЕКТ  Ag 925º -    0.00         1.2   \n",
       "9477   1078600531731  СИ ДФРС ПРОЕКТ  Ag 925º -    0.53         1.2   \n",
       "10118  1078600531110  СИ ДФРС ПРОЕКТ  Ag 925º -    0.00         1.2   \n",
       "25693  1078600518107  СИ ДФРС ПРОЕКТ  Ag 925º -    0.00         1.2   \n",
       "25909  1078600518115  СИ ДФРС ПРОЕКТ  Ag 925º -    0.00         1.2   \n",
       "\n",
       "       cost_price  revenue_from_staff   group  \n",
       "4749        322.0              -320.8  Silver  \n",
       "6715        322.0              -320.8  Silver  \n",
       "8234        322.0              -320.8  Silver  \n",
       "8310        322.0              -320.8  Silver  \n",
       "8750        322.0              -320.8  Silver  \n",
       "9477        322.0              -320.8  Silver  \n",
       "10118       322.0              -320.8  Silver  \n",
       "25693       322.0              -320.8  Silver  \n",
       "25909       322.0              -320.8  Silver  "
      ]
     },
     "execution_count": 62,
     "metadata": {},
     "output_type": "execute_result"
    }
   ],
   "source": [
    "silver[silver.revenue_from_staff <= 0]"
   ]
  },
  {
   "cell_type": "code",
   "execution_count": 64,
   "id": "e8d34894-f684-4ff2-922a-284ba3fca2c9",
   "metadata": {},
   "outputs": [
    {
     "data": {
      "text/html": [
       "<div>\n",
       "<style scoped>\n",
       "    .dataframe tbody tr th:only-of-type {\n",
       "        vertical-align: middle;\n",
       "    }\n",
       "\n",
       "    .dataframe tbody tr th {\n",
       "        vertical-align: top;\n",
       "    }\n",
       "\n",
       "    .dataframe thead th {\n",
       "        text-align: right;\n",
       "    }\n",
       "</style>\n",
       "<table border=\"1\" class=\"dataframe\">\n",
       "  <thead>\n",
       "    <tr style=\"text-align: right;\">\n",
       "      <th></th>\n",
       "      <th>data_of_sale</th>\n",
       "      <th>num_of_receipt</th>\n",
       "      <th>name</th>\n",
       "      <th>barkod</th>\n",
       "      <th>staff_group</th>\n",
       "      <th>parameter</th>\n",
       "      <th>weight</th>\n",
       "      <th>sell_price</th>\n",
       "      <th>cost_price</th>\n",
       "      <th>revenue_from_staff</th>\n",
       "      <th>group</th>\n",
       "    </tr>\n",
       "  </thead>\n",
       "  <tbody>\n",
       "    <tr>\n",
       "      <th>25829</th>\n",
       "      <td>2023-05-04 15:19:00</td>\n",
       "      <td>110</td>\n",
       "      <td>Подвес Сердце с брилл. поз.</td>\n",
       "      <td>1078600619069</td>\n",
       "      <td>СИ ДФРС ПРОЕКТ</td>\n",
       "      <td>Ag 925º -</td>\n",
       "      <td>0.55</td>\n",
       "      <td>864.0</td>\n",
       "      <td>322.0</td>\n",
       "      <td>542.0</td>\n",
       "      <td>Silver</td>\n",
       "    </tr>\n",
       "  </tbody>\n",
       "</table>\n",
       "</div>"
      ],
      "text/plain": [
       "             data_of_sale  num_of_receipt                         name  \\\n",
       "25829 2023-05-04 15:19:00             110  Подвес Сердце с брилл. поз.   \n",
       "\n",
       "              barkod     staff_group  parameter  weight  sell_price  \\\n",
       "25829  1078600619069  СИ ДФРС ПРОЕКТ  Ag 925º -    0.55       864.0   \n",
       "\n",
       "       cost_price  revenue_from_staff   group  \n",
       "25829       322.0               542.0  Silver  "
      ]
     },
     "execution_count": 64,
     "metadata": {},
     "output_type": "execute_result"
    }
   ],
   "source": [
    "silver[(silver.name == 'Подвес Сердце с брилл. поз.') & (silver.revenue_from_staff > 0)]"
   ]
  },
  {
   "cell_type": "markdown",
   "id": "1cbc0bd3-a255-468f-a476-e3c8681fbb09",
   "metadata": {},
   "source": [
    "# Результат анализа:\n",
    "### Мы выяснили, что товар \"Подвес Сердце с брилл. поз.\" девять раз был продан с убытком, а один раз принес прибыль. При этом стоит отметить, что время продажи могло совпадать, но в одних случаях мы теряли деньги, а в других — нет.\n",
    "\n",
    "# Возможные причины:\n",
    "### Техническая проблема: Возможно, где-то произошел сбой или ошибка в системе.\n",
    "### Скидка на день рождения: Вероятно, покупатель воспользовался специальным предложением для клиентов, отмечающих день рождения.\n",
    "### Акция \"Покупай больше — получай дешевле\": Товар мог быть предоставлен по специальной программе, где покупка украшений на определенную сумму давала возможность получить подвеску практически бесплатно.\n",
    "### Акции \"Купи _ и получи в подарок\". В чеке пользователя находится какой-то товар, из-за которого он и получает такую скидку\n",
    "\n",
    "### ----------------------------------------------------------------------------------------------------------------------------------\n",
    "### К сожалению, из-за недостатка данных мы не можем проверить первую и вторую гипотезы. Однако третью и четвертую гипотезы мы можем исследовать более детально."
   ]
  },
  {
   "cell_type": "code",
   "execution_count": null,
   "id": "81c653de-2a11-4561-8d03-88c18dbd7cb9",
   "metadata": {},
   "outputs": [],
   "source": [
    "\n",
    "\n"
   ]
  },
  {
   "cell_type": "markdown",
   "id": "98896ab3-1a0f-4888-a6bc-936e3cc5ef06",
   "metadata": {},
   "source": [
    "## Для этого, мы возьмем номера чеков, в которых была замечана данная подвеска и по ним посчитаем выручку "
   ]
  },
  {
   "cell_type": "code",
   "execution_count": 67,
   "id": "219d7a13-7c30-40cf-87ec-d072211aed1c",
   "metadata": {},
   "outputs": [],
   "source": [
    "specific_staff = silver[silver.name == 'Подвес Сердце с брилл. поз.']"
   ]
  },
  {
   "cell_type": "code",
   "execution_count": 72,
   "id": "28c2b258-67dd-4685-b9a3-ec0cdd3e8463",
   "metadata": {},
   "outputs": [
    {
     "data": {
      "text/plain": [
       "array([1303, 5007, 1314, 5011, 5016, 4164, 5039, 1846,  110, 1849])"
      ]
     },
     "execution_count": 72,
     "metadata": {},
     "output_type": "execute_result"
    }
   ],
   "source": [
    "specific_staff_array = np.array(specific_staff.num_of_receipt)\n",
    "specific_staff_array"
   ]
  },
  {
   "cell_type": "code",
   "execution_count": 79,
   "id": "e6c28261-1c64-4fc9-9ed2-972d1ee24633",
   "metadata": {},
   "outputs": [],
   "source": [
    "t = new_df.groupby('num_of_receipt')['sell_price'].sum().reset_index()"
   ]
  },
  {
   "cell_type": "code",
   "execution_count": 80,
   "id": "9727176e-7f92-4f03-9dbf-f7a0da745ec7",
   "metadata": {},
   "outputs": [
    {
     "data": {
      "text/html": [
       "<div>\n",
       "<style scoped>\n",
       "    .dataframe tbody tr th:only-of-type {\n",
       "        vertical-align: middle;\n",
       "    }\n",
       "\n",
       "    .dataframe tbody tr th {\n",
       "        vertical-align: top;\n",
       "    }\n",
       "\n",
       "    .dataframe thead th {\n",
       "        text-align: right;\n",
       "    }\n",
       "</style>\n",
       "<table border=\"1\" class=\"dataframe\">\n",
       "  <thead>\n",
       "    <tr style=\"text-align: right;\">\n",
       "      <th></th>\n",
       "      <th>num_of_receipt</th>\n",
       "      <th>sell_price</th>\n",
       "    </tr>\n",
       "  </thead>\n",
       "  <tbody>\n",
       "    <tr>\n",
       "      <th>0</th>\n",
       "      <td>3</td>\n",
       "      <td>1248.0</td>\n",
       "    </tr>\n",
       "    <tr>\n",
       "      <th>1</th>\n",
       "      <td>4</td>\n",
       "      <td>2199.6</td>\n",
       "    </tr>\n",
       "    <tr>\n",
       "      <th>2</th>\n",
       "      <td>8</td>\n",
       "      <td>18000.0</td>\n",
       "    </tr>\n",
       "    <tr>\n",
       "      <th>3</th>\n",
       "      <td>10</td>\n",
       "      <td>7440.0</td>\n",
       "    </tr>\n",
       "    <tr>\n",
       "      <th>4</th>\n",
       "      <td>11</td>\n",
       "      <td>4164.0</td>\n",
       "    </tr>\n",
       "  </tbody>\n",
       "</table>\n",
       "</div>"
      ],
      "text/plain": [
       "   num_of_receipt  sell_price\n",
       "0               3      1248.0\n",
       "1               4      2199.6\n",
       "2               8     18000.0\n",
       "3              10      7440.0\n",
       "4              11      4164.0"
      ]
     },
     "execution_count": 80,
     "metadata": {},
     "output_type": "execute_result"
    }
   ],
   "source": [
    "t.head()"
   ]
  },
  {
   "cell_type": "code",
   "execution_count": 82,
   "id": "dce70c14-090b-4942-95ed-ee704a0cef0e",
   "metadata": {},
   "outputs": [],
   "source": [
    "t = t[t.num_of_receipt.isin(specific_staff_array)]"
   ]
  },
  {
   "cell_type": "code",
   "execution_count": 83,
   "id": "137a8e54-f001-47bb-9f54-d2734fd01466",
   "metadata": {},
   "outputs": [
    {
     "data": {
      "text/html": [
       "<div>\n",
       "<style scoped>\n",
       "    .dataframe tbody tr th:only-of-type {\n",
       "        vertical-align: middle;\n",
       "    }\n",
       "\n",
       "    .dataframe tbody tr th {\n",
       "        vertical-align: top;\n",
       "    }\n",
       "\n",
       "    .dataframe thead th {\n",
       "        text-align: right;\n",
       "    }\n",
       "</style>\n",
       "<table border=\"1\" class=\"dataframe\">\n",
       "  <thead>\n",
       "    <tr style=\"text-align: right;\">\n",
       "      <th></th>\n",
       "      <th>num_of_receipt</th>\n",
       "      <th>sell_price</th>\n",
       "    </tr>\n",
       "  </thead>\n",
       "  <tbody>\n",
       "    <tr>\n",
       "      <th>53</th>\n",
       "      <td>110</td>\n",
       "      <td>59485.2</td>\n",
       "    </tr>\n",
       "    <tr>\n",
       "      <th>691</th>\n",
       "      <td>1303</td>\n",
       "      <td>34858.8</td>\n",
       "    </tr>\n",
       "    <tr>\n",
       "      <th>701</th>\n",
       "      <td>1314</td>\n",
       "      <td>99264.0</td>\n",
       "    </tr>\n",
       "    <tr>\n",
       "      <th>1091</th>\n",
       "      <td>1846</td>\n",
       "      <td>74401.2</td>\n",
       "    </tr>\n",
       "    <tr>\n",
       "      <th>1094</th>\n",
       "      <td>1849</td>\n",
       "      <td>15966.0</td>\n",
       "    </tr>\n",
       "    <tr>\n",
       "      <th>2069</th>\n",
       "      <td>4164</td>\n",
       "      <td>47641.2</td>\n",
       "    </tr>\n",
       "    <tr>\n",
       "      <th>2653</th>\n",
       "      <td>5007</td>\n",
       "      <td>153661.2</td>\n",
       "    </tr>\n",
       "    <tr>\n",
       "      <th>2657</th>\n",
       "      <td>5011</td>\n",
       "      <td>173697.6</td>\n",
       "    </tr>\n",
       "    <tr>\n",
       "      <th>2661</th>\n",
       "      <td>5016</td>\n",
       "      <td>121448.4</td>\n",
       "    </tr>\n",
       "    <tr>\n",
       "      <th>2673</th>\n",
       "      <td>5039</td>\n",
       "      <td>75061.2</td>\n",
       "    </tr>\n",
       "  </tbody>\n",
       "</table>\n",
       "</div>"
      ],
      "text/plain": [
       "      num_of_receipt  sell_price\n",
       "53               110     59485.2\n",
       "691             1303     34858.8\n",
       "701             1314     99264.0\n",
       "1091            1846     74401.2\n",
       "1094            1849     15966.0\n",
       "2069            4164     47641.2\n",
       "2653            5007    153661.2\n",
       "2657            5011    173697.6\n",
       "2661            5016    121448.4\n",
       "2673            5039     75061.2"
      ]
     },
     "execution_count": 83,
     "metadata": {},
     "output_type": "execute_result"
    }
   ],
   "source": [
    "t"
   ]
  },
  {
   "cell_type": "markdown",
   "id": "ced863e1-b7f3-46ce-88ab-66f8710927e4",
   "metadata": {},
   "source": [
    "## Мы видим, что наша гипотеза \"Покупай больше - плати меньше не верна\" не верна потому что 110 чек (в котором, мы продали в плюс подвеску) не отличается от других(в которых мы подвеску в убыток продавали) "
   ]
  },
  {
   "cell_type": "code",
   "execution_count": 84,
   "id": "d195108c-b616-4da4-a484-e7b7ac1ed11e",
   "metadata": {},
   "outputs": [
    {
     "data": {
      "text/html": [
       "<div>\n",
       "<style scoped>\n",
       "    .dataframe tbody tr th:only-of-type {\n",
       "        vertical-align: middle;\n",
       "    }\n",
       "\n",
       "    .dataframe tbody tr th {\n",
       "        vertical-align: top;\n",
       "    }\n",
       "\n",
       "    .dataframe thead th {\n",
       "        text-align: right;\n",
       "    }\n",
       "</style>\n",
       "<table border=\"1\" class=\"dataframe\">\n",
       "  <thead>\n",
       "    <tr style=\"text-align: right;\">\n",
       "      <th></th>\n",
       "      <th>data_of_sale</th>\n",
       "      <th>num_of_receipt</th>\n",
       "      <th>name</th>\n",
       "      <th>barkod</th>\n",
       "      <th>staff_group</th>\n",
       "      <th>parameter</th>\n",
       "      <th>weight</th>\n",
       "      <th>sell_price</th>\n",
       "      <th>cost_price</th>\n",
       "      <th>revenue_from_staff</th>\n",
       "      <th>group</th>\n",
       "    </tr>\n",
       "  </thead>\n",
       "  <tbody>\n",
       "    <tr>\n",
       "      <th>3695</th>\n",
       "      <td>2023-04-04 09:41:00</td>\n",
       "      <td>1418</td>\n",
       "      <td>Серьги-конго</td>\n",
       "      <td>1078603771148</td>\n",
       "      <td>БК СЕРЬГИ</td>\n",
       "      <td>Au 585º -, разм.2,0</td>\n",
       "      <td>1.27</td>\n",
       "      <td>9180.0</td>\n",
       "      <td>3337.3345</td>\n",
       "      <td>5842.6655</td>\n",
       "      <td>Gold</td>\n",
       "    </tr>\n",
       "    <tr>\n",
       "      <th>3696</th>\n",
       "      <td>2023-04-04 09:41:00</td>\n",
       "      <td>1418</td>\n",
       "      <td>Серьги-конго</td>\n",
       "      <td>1078601848189</td>\n",
       "      <td>БК СЕРЬГИ</td>\n",
       "      <td>Au 585º -, разм.3,0</td>\n",
       "      <td>2.17</td>\n",
       "      <td>15600.0</td>\n",
       "      <td>6294.5825</td>\n",
       "      <td>9305.4175</td>\n",
       "      <td>Gold</td>\n",
       "    </tr>\n",
       "    <tr>\n",
       "      <th>3697</th>\n",
       "      <td>2023-04-04 09:48:00</td>\n",
       "      <td>3309</td>\n",
       "      <td>Кольцо-печатка с чёрн.эмалью, фиан. род.</td>\n",
       "      <td>1078580803357</td>\n",
       "      <td>СИ КОЛЬЦО ПЕЧАТ</td>\n",
       "      <td>Ag 925º -, разм.20,0</td>\n",
       "      <td>2.67</td>\n",
       "      <td>2280.0</td>\n",
       "      <td>647.8755</td>\n",
       "      <td>1632.1245</td>\n",
       "      <td>Silver</td>\n",
       "    </tr>\n",
       "    <tr>\n",
       "      <th>3698</th>\n",
       "      <td>2023-04-04 09:51:00</td>\n",
       "      <td>3310</td>\n",
       "      <td>Кольцо-печатка с фиан. черн.</td>\n",
       "      <td>1078603110611</td>\n",
       "      <td>СИ КОЛЬЦО ПЕЧАТ</td>\n",
       "      <td>Ag 925º -, разм.20,0</td>\n",
       "      <td>2.26</td>\n",
       "      <td>624.0</td>\n",
       "      <td>233.9100</td>\n",
       "      <td>390.0900</td>\n",
       "      <td>Silver</td>\n",
       "    </tr>\n",
       "    <tr>\n",
       "      <th>3699</th>\n",
       "      <td>2023-04-04 09:53:00</td>\n",
       "      <td>1419</td>\n",
       "      <td>Подвес</td>\n",
       "      <td>1078468601099</td>\n",
       "      <td>БК ПОДВЕС ДЕКОР</td>\n",
       "      <td>Au 585º -</td>\n",
       "      <td>0.98</td>\n",
       "      <td>7620.0</td>\n",
       "      <td>2127.7185</td>\n",
       "      <td>5492.2815</td>\n",
       "      <td>Gold</td>\n",
       "    </tr>\n",
       "  </tbody>\n",
       "</table>\n",
       "</div>"
      ],
      "text/plain": [
       "            data_of_sale  num_of_receipt  \\\n",
       "3695 2023-04-04 09:41:00            1418   \n",
       "3696 2023-04-04 09:41:00            1418   \n",
       "3697 2023-04-04 09:48:00            3309   \n",
       "3698 2023-04-04 09:51:00            3310   \n",
       "3699 2023-04-04 09:53:00            1419   \n",
       "\n",
       "                                          name         barkod  \\\n",
       "3695                              Серьги-конго  1078603771148   \n",
       "3696                              Серьги-конго  1078601848189   \n",
       "3697  Кольцо-печатка с чёрн.эмалью, фиан. род.  1078580803357   \n",
       "3698              Кольцо-печатка с фиан. черн.  1078603110611   \n",
       "3699                                    Подвес  1078468601099   \n",
       "\n",
       "          staff_group             parameter  weight  sell_price  cost_price  \\\n",
       "3695        БК СЕРЬГИ   Au 585º -, разм.2,0    1.27      9180.0   3337.3345   \n",
       "3696        БК СЕРЬГИ   Au 585º -, разм.3,0    2.17     15600.0   6294.5825   \n",
       "3697  СИ КОЛЬЦО ПЕЧАТ  Ag 925º -, разм.20,0    2.67      2280.0    647.8755   \n",
       "3698  СИ КОЛЬЦО ПЕЧАТ  Ag 925º -, разм.20,0    2.26       624.0    233.9100   \n",
       "3699  БК ПОДВЕС ДЕКОР             Au 585º -    0.98      7620.0   2127.7185   \n",
       "\n",
       "      revenue_from_staff   group  \n",
       "3695           5842.6655    Gold  \n",
       "3696           9305.4175    Gold  \n",
       "3697           1632.1245  Silver  \n",
       "3698            390.0900  Silver  \n",
       "3699           5492.2815    Gold  "
      ]
     },
     "execution_count": 84,
     "metadata": {},
     "output_type": "execute_result"
    }
   ],
   "source": [
    "new_df.head()"
   ]
  },
  {
   "cell_type": "markdown",
   "id": "ee58a8f1-eff5-4d05-869c-23d414fce9d0",
   "metadata": {},
   "source": [
    "# Проверим 4 гипотезу\n",
    "## Купи _ и получи в подарок"
   ]
  },
  {
   "cell_type": "code",
   "execution_count": 87,
   "id": "6aa63a5e-2ebb-49b9-a580-06bb6e8726e3",
   "metadata": {},
   "outputs": [],
   "source": [
    "t2 = new_df[new_df.num_of_receipt.isin(specific_staff_array)]"
   ]
  },
  {
   "cell_type": "code",
   "execution_count": 97,
   "id": "9f7fba59-658f-4717-90cb-bd72043c190f",
   "metadata": {
    "scrolled": true
   },
   "outputs": [
    {
     "data": {
      "text/html": [
       "<div>\n",
       "<style scoped>\n",
       "    .dataframe tbody tr th:only-of-type {\n",
       "        vertical-align: middle;\n",
       "    }\n",
       "\n",
       "    .dataframe tbody tr th {\n",
       "        vertical-align: top;\n",
       "    }\n",
       "\n",
       "    .dataframe thead th {\n",
       "        text-align: right;\n",
       "    }\n",
       "</style>\n",
       "<table border=\"1\" class=\"dataframe\">\n",
       "  <thead>\n",
       "    <tr style=\"text-align: right;\">\n",
       "      <th></th>\n",
       "      <th>data_of_sale</th>\n",
       "      <th>num_of_receipt</th>\n",
       "      <th>name</th>\n",
       "      <th>barkod</th>\n",
       "      <th>staff_group</th>\n",
       "      <th>parameter</th>\n",
       "      <th>weight</th>\n",
       "      <th>sell_price</th>\n",
       "      <th>cost_price</th>\n",
       "      <th>revenue_from_staff</th>\n",
       "      <th>group</th>\n",
       "    </tr>\n",
       "  </thead>\n",
       "  <tbody>\n",
       "    <tr>\n",
       "      <th>3730</th>\n",
       "      <td>2023-04-04 10:28:00</td>\n",
       "      <td>5011</td>\n",
       "      <td>Кольцо обручальное</td>\n",
       "      <td>1078487351590</td>\n",
       "      <td>БК КОЛЬЦА ОБРУЧ</td>\n",
       "      <td>Au 585º -, разм.17,5</td>\n",
       "      <td>2.42</td>\n",
       "      <td>14820.0</td>\n",
       "      <td>5135.900</td>\n",
       "      <td>9684.100</td>\n",
       "      <td>Gold</td>\n",
       "    </tr>\n",
       "    <tr>\n",
       "      <th>3771</th>\n",
       "      <td>2023-04-04 11:02:00</td>\n",
       "      <td>1849</td>\n",
       "      <td>Серьги род.</td>\n",
       "      <td>1078386003166</td>\n",
       "      <td>СИ СЕРЬГИ БК</td>\n",
       "      <td>Ag 925º -</td>\n",
       "      <td>3.92</td>\n",
       "      <td>784.8</td>\n",
       "      <td>578.381</td>\n",
       "      <td>206.419</td>\n",
       "      <td>Silver</td>\n",
       "    </tr>\n",
       "  </tbody>\n",
       "</table>\n",
       "</div>"
      ],
      "text/plain": [
       "            data_of_sale  num_of_receipt                name         barkod  \\\n",
       "3730 2023-04-04 10:28:00            5011  Кольцо обручальное  1078487351590   \n",
       "3771 2023-04-04 11:02:00            1849         Серьги род.  1078386003166   \n",
       "\n",
       "          staff_group             parameter  weight  sell_price  cost_price  \\\n",
       "3730  БК КОЛЬЦА ОБРУЧ  Au 585º -, разм.17,5    2.42     14820.0    5135.900   \n",
       "3771     СИ СЕРЬГИ БК             Ag 925º -    3.92       784.8     578.381   \n",
       "\n",
       "      revenue_from_staff   group  \n",
       "3730            9684.100    Gold  \n",
       "3771             206.419  Silver  "
      ]
     },
     "execution_count": 97,
     "metadata": {},
     "output_type": "execute_result"
    }
   ],
   "source": [
    "t2.head(2)"
   ]
  },
  {
   "cell_type": "code",
   "execution_count": 109,
   "id": "29e01aa3-a4c0-4139-a23e-e251e36976f2",
   "metadata": {},
   "outputs": [],
   "source": [
    "g = t2[['num_of_receipt', 'name']].groupby('name')['num_of_receipt'].count().reset_index()"
   ]
  },
  {
   "cell_type": "code",
   "execution_count": 110,
   "id": "62958bb0-893f-430d-9fa1-a6da1b8630d1",
   "metadata": {},
   "outputs": [
    {
     "data": {
      "text/html": [
       "<div>\n",
       "<style scoped>\n",
       "    .dataframe tbody tr th:only-of-type {\n",
       "        vertical-align: middle;\n",
       "    }\n",
       "\n",
       "    .dataframe tbody tr th {\n",
       "        vertical-align: top;\n",
       "    }\n",
       "\n",
       "    .dataframe thead th {\n",
       "        text-align: right;\n",
       "    }\n",
       "</style>\n",
       "<table border=\"1\" class=\"dataframe\">\n",
       "  <thead>\n",
       "    <tr style=\"text-align: right;\">\n",
       "      <th></th>\n",
       "      <th>name</th>\n",
       "      <th>num_of_receipt</th>\n",
       "    </tr>\n",
       "  </thead>\n",
       "  <tbody>\n",
       "    <tr>\n",
       "      <th>0</th>\n",
       "      <td>Браслет Бисмарк черн.</td>\n",
       "      <td>1</td>\n",
       "    </tr>\n",
       "    <tr>\n",
       "      <th>1</th>\n",
       "      <td>Браслет Нонна пуст с а/г</td>\n",
       "      <td>1</td>\n",
       "    </tr>\n",
       "    <tr>\n",
       "      <th>2</th>\n",
       "      <td>Браслет Ромб тройной пуст с а/г</td>\n",
       "      <td>1</td>\n",
       "    </tr>\n",
       "    <tr>\n",
       "      <th>3</th>\n",
       "      <td>Браслет двойной ромб с алм.гр. поз.</td>\n",
       "      <td>1</td>\n",
       "    </tr>\n",
       "    <tr>\n",
       "      <th>4</th>\n",
       "      <td>Браслет для Шармов Сердце с фианитами</td>\n",
       "      <td>1</td>\n",
       "    </tr>\n",
       "  </tbody>\n",
       "</table>\n",
       "</div>"
      ],
      "text/plain": [
       "                                    name  num_of_receipt\n",
       "0                  Браслет Бисмарк черн.               1\n",
       "1               Браслет Нонна пуст с а/г               1\n",
       "2        Браслет Ромб тройной пуст с а/г               1\n",
       "3    Браслет двойной ромб с алм.гр. поз.               1\n",
       "4  Браслет для Шармов Сердце с фианитами               1"
      ]
     },
     "execution_count": 110,
     "metadata": {},
     "output_type": "execute_result"
    }
   ],
   "source": [
    "g.head()"
   ]
  },
  {
   "cell_type": "code",
   "execution_count": 118,
   "id": "f1d99c21-9dc3-460d-b229-cf9a5e69c2f5",
   "metadata": {},
   "outputs": [
    {
     "data": {
      "text/html": [
       "<div>\n",
       "<style scoped>\n",
       "    .dataframe tbody tr th:only-of-type {\n",
       "        vertical-align: middle;\n",
       "    }\n",
       "\n",
       "    .dataframe tbody tr th {\n",
       "        vertical-align: top;\n",
       "    }\n",
       "\n",
       "    .dataframe thead th {\n",
       "        text-align: right;\n",
       "    }\n",
       "</style>\n",
       "<table border=\"1\" class=\"dataframe\">\n",
       "  <thead>\n",
       "    <tr style=\"text-align: right;\">\n",
       "      <th></th>\n",
       "      <th>name</th>\n",
       "      <th>num_of_receipt</th>\n",
       "    </tr>\n",
       "  </thead>\n",
       "  <tbody>\n",
       "    <tr>\n",
       "      <th>15</th>\n",
       "      <td>Кольцо обручальное</td>\n",
       "      <td>6</td>\n",
       "    </tr>\n",
       "    <tr>\n",
       "      <th>30</th>\n",
       "      <td>Подвес Сердце с брилл. поз.</td>\n",
       "      <td>10</td>\n",
       "    </tr>\n",
       "    <tr>\n",
       "      <th>51</th>\n",
       "      <td>Серьги, фианит</td>\n",
       "      <td>6</td>\n",
       "    </tr>\n",
       "  </tbody>\n",
       "</table>\n",
       "</div>"
      ],
      "text/plain": [
       "                           name  num_of_receipt\n",
       "15           Кольцо обручальное               6\n",
       "30  Подвес Сердце с брилл. поз.              10\n",
       "51               Серьги, фианит               6"
      ]
     },
     "execution_count": 118,
     "metadata": {},
     "output_type": "execute_result"
    }
   ],
   "source": [
    "g[g.num_of_receipt >= 5]"
   ]
  },
  {
   "cell_type": "code",
   "execution_count": 95,
   "id": "30a9f96d-2524-4106-884c-f7a941b315e6",
   "metadata": {},
   "outputs": [],
   "source": [
    "t3 = t2.groupby(t2.num_of_receipt)['name'].agg(list).reset_index()"
   ]
  },
  {
   "cell_type": "markdown",
   "id": "55e13a5e-c23e-4e5a-8ed2-7f4a8c2b44eb",
   "metadata": {},
   "source": [
    "# Теперь нам нужно понять в какой товар одинаковый во всех чеках кроме 110, если такой есть, то наша гипотза верна, если нет, то нет :("
   ]
  },
  {
   "cell_type": "code",
   "execution_count": 135,
   "id": "95dcb644-282f-4786-95dc-deab41235c00",
   "metadata": {},
   "outputs": [
    {
     "name": "stdout",
     "output_type": "stream",
     "text": [
      "Товар \"подвес сердце с брилл. поз.\" присутствует 10 раз\n",
      "Товар \"серьги, фианит\" присутствует 6 раз\n",
      "Товар \"кольцо обручальное\" присутствует 6 раз\n",
      "Товар \"кольцо\" присутствует 2 раз\n",
      "Товар \"кольцо обручальное гладк.5мм род.\" присутствует 2 раз\n",
      "Товар \"цепь ромб тройной пуст с а/г\" присутствует 2 раз\n",
      "Товар \"серьги\" присутствует 2 раз\n",
      "Товар \"подвес, фианит\" присутствует 2 раз\n",
      "Товар \"кольцо, фианит\" присутствует 2 раз\n",
      "Товар \"кольцо обруч. с брилл. алм. гр.\" присутствует 2 раз\n",
      "Товар \"серьги-пусеты с брилл. с родир.\" присутствует 2 раз\n",
      "Товар \"кольцо с фиан. род.\" присутствует 2 раз\n",
      "Товар \"подвес с фиан. род.\" присутствует 2 раз\n",
      "Товар \"цепь якорь пуст\" присутствует 1 раз\n",
      "Товар \"серьги крестики с фиан. род.\" присутствует 1 раз\n",
      "Товар \"кольцо с брилл. с родир.\" присутствует 1 раз\n",
      "Товар \"серьга-пусета с брилл.+фиан. с родир.\" присутствует 1 раз\n",
      "Товар \"серьги-пуссеты с фиан. род.\" присутствует 1 раз\n",
      "Товар \"пирсинг с фиан. род.\" присутствует 1 раз\n",
      "Товар \"серьги круг с фиан. род.\" присутствует 1 раз\n",
      "Товар \"серьги с брилл. с родир.\" присутствует 1 раз\n",
      "Товар \"брошь с фиан. поз.\" присутствует 1 раз\n",
      "Товар \"браслет двойной ромб с алм.гр. поз.\" присутствует 1 раз\n",
      "Товар \"серьги с топаз.s, фиан. род.\" присутствует 1 раз\n",
      "Товар \"кольцо с брилл.\" присутствует 1 раз\n",
      "Товар \"кольцо с фианитами род.\" присутствует 1 раз\n",
      "Товар \"пирсинг род.\" присутствует 1 раз\n",
      "Товар \"кольцо печатка монарх с синт.обсидианом черн.\" присутствует 1 раз\n",
      "Товар \"крест, фианит\" присутствует 1 раз\n",
      "Товар \"серьги род.\" присутствует 1 раз\n",
      "Товар \"кольцо с брилл.лаб.+топ. с родир.\" присутствует 1 раз\n",
      "Товар \"браслет с черн.\" присутствует 1 раз\n",
      "Товар \"кольцо-печатка ислам чернение лк\" присутствует 1 раз\n",
      "Товар \"подвеска с брилл.+кр.swarovski\" присутствует 1 раз\n",
      "Товар \"цепь бисмарк с а/г ручной\" присутствует 1 раз\n",
      "Товар \"серьги-пуссеты с а/г поз.\" присутствует 1 раз\n",
      "Товар \"серьги-конго с а/г поз., д.1,4\" присутствует 1 раз\n",
      "Товар \"подвес икона семистрельная\" присутствует 1 раз\n",
      "Товар \"браслет ромб тройной пуст с а/г\" присутствует 1 раз\n",
      "Товар \"серьги-каффы с фиан. поз.\" присутствует 1 раз\n",
      "Товар \"серьги с топаз.s\" присутствует 1 раз\n",
      "Товар \"серьги с жемчугом swarowski и фиан.с родир.\" присутствует 1 раз\n",
      "Товар \"браслет бисмарк черн.\" присутствует 1 раз\n",
      "Товар \"браслет нонна пуст с а/г\" присутствует 1 раз\n",
      "Товар \"серьги с жемчугом\" присутствует 1 раз\n",
      "Товар \"кольцо обруч. двухспл. с брилл. с родир\" присутствует 1 раз\n",
      "Товар \"подвес шарм с черн.\" присутствует 1 раз\n",
      "Товар \"браслет для шармов сердце с фианитами\" присутствует 1 раз\n",
      "Товар \"подвеска с гранатом и куб. цирк. б/ц с родир\" присутствует 1 раз\n",
      "Товар \"подвес, кубический цирконий\" присутствует 1 раз\n",
      "Товар \"цепь панцирь одинарный с а/г\" присутствует 1 раз\n",
      "Товар \"кольцо печатка, фианит\" присутствует 1 раз\n",
      "Товар \"браслет с фиан.род.\" присутствует 1 раз\n",
      "Товар \"серьги-пуссеты с св.зел.крист.swarovski покрытие :платина\" присутствует 1 раз\n",
      "Товар \"браслет с бирюзой с. (8мм)\" присутствует 1 раз\n",
      "Товар \"серьги с цитрином и цитрин.фиан. бел. и черн.родир.\" присутствует 1 раз\n",
      "Товар \"кольцо с черн.керамикой и фиан. род.\" присутствует 1 раз\n",
      "Товар \"цепь сингапур\" присутствует 1 раз\n",
      "Товар \"кольцо обручальное гладк.4мм род.\" присутствует 1 раз\n",
      "Товар \"кольцо обруч. гладк.3мм род.\" присутствует 1 раз\n",
      "Товар \"серьги-пуссеты с топазами\" присутствует 1 раз\n",
      "Товар \"серьги-пусеты с брилл. с родир.+шайба\" присутствует 1 раз\n",
      "Товар \"серьги с гранат. род.\" присутствует 1 раз\n",
      "Товар \"серьги-конго\" присутствует 1 раз\n",
      "Товар \"серьги с фиан. род.\" присутствует 1 раз\n",
      "Товар \"кольцо обруч. с брилл. с родир.\" присутствует 1 раз\n"
     ]
    }
   ],
   "source": [
    "from collections import defaultdict\n",
    "import pandas as pd\n",
    "\n",
    "item_count = defaultdict(int)\n",
    "\n",
    "def count_items(name_list):\n",
    "    if isinstance(name_list, list): \n",
    "        for item in name_list:\n",
    "            normalized_item = str(item).strip().lower()  \n",
    "            if normalized_item:  \n",
    "                item_count[normalized_item] += 1\n",
    "\n",
    "t3['name'].apply(count_items)\n",
    "\n",
    "sorted_items = sorted(item_count.items(), key=lambda x: x[1], reverse=True)\n",
    "\n",
    "for item, count in sorted_items:\n",
    "    print(f'Товар \"{item}\" присутствует {count} раз')"
   ]
  },
  {
   "cell_type": "markdown",
   "id": "9500fcab-e0c6-4457-a6de-50a84aabb12e",
   "metadata": {},
   "source": [
    "### К сожалению наша гипотеза не верна, будем формулировать выводы"
   ]
  },
  {
   "cell_type": "markdown",
   "id": "bb73bf5b-4509-4509-9734-16a347e81618",
   "metadata": {},
   "source": [
    "# ------------------------------------------------------------------------------------------"
   ]
  },
  {
   "cell_type": "markdown",
   "id": "00c817ca-9373-4cbc-986a-114fc489e307",
   "metadata": {},
   "source": [
    "# Нашей основной задачей было найти среднюю наценку по каждой категории среди серебрянных предметов украшения и золотых. \n",
    "## У нас получилось что:\n",
    "## Золото - 8,903 руб\n",
    "## Серебро - 1,244 руб\n",
    "\n",
    "### Дополнительно мы нашли что в данных, возможно, присутствует ошибка и товар \"подвес сердце с брилл. поз.\" мы продаем себе в убыток\n",
    "### Также мы проверили и опровергли 2 гипотезы о том, что, товар мог быть предоставлен по специальной программе, где покупка украшений на определенную сумму давала возможность получить подвеску практически бесплатно. И В чеке пользователя находится какой-то товар, из-за которого он и получает такую скидку"
   ]
  },
  {
   "cell_type": "code",
   "execution_count": null,
   "id": "1726c00c-7142-4a98-adb0-f671b2b34c61",
   "metadata": {},
   "outputs": [],
   "source": []
  }
 ],
 "metadata": {
  "kernelspec": {
   "display_name": "Python 3 (ipykernel)",
   "language": "python",
   "name": "python3"
  },
  "language_info": {
   "codemirror_mode": {
    "name": "ipython",
    "version": 3
   },
   "file_extension": ".py",
   "mimetype": "text/x-python",
   "name": "python",
   "nbconvert_exporter": "python",
   "pygments_lexer": "ipython3",
   "version": "3.12.2"
  }
 },
 "nbformat": 4,
 "nbformat_minor": 5
}
